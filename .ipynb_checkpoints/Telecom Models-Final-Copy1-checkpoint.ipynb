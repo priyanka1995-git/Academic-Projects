{
 "cells": [
  {
   "cell_type": "code",
   "execution_count": 17,
   "metadata": {},
   "outputs": [],
   "source": [
    "# import libraries\n",
    "import pandas as pd\n",
    "import numpy as np\n",
    "import matplotlib.pyplot as plt\n",
    "import seaborn as sns\n",
    "from sklearn import metrics # for the check the error and accuracy of the model\n",
    "from sklearn.metrics import classification_report,confusion_matrix, roc_curve, auc, accuracy_score, f1_score, precision_score, recall_score, roc_auc_score\n",
    "import warnings\n",
    "warnings.filterwarnings('ignore')\n",
    "\n",
    "from sklearn.linear_model import LogisticRegression\n",
    "from sklearn.tree import DecisionTreeClassifier\n",
    "from sklearn.ensemble import RandomForestClassifier\n",
    "from sklearn.model_selection import GridSearchCV\n",
    "from sklearn.model_selection import RandomizedSearchCV\n",
    "\n",
    "\n",
    "from IPython.core.interactiveshell import InteractiveShell\n",
    "InteractiveShell.ast_node_interactivity = \"all\"\n",
    "%matplotlib inline\n",
    "\n",
    "pd.set_option(\"display.max_columns\", 250)\n",
    "pd.set_option(\"display.max_rows\", 250)"
   ]
  },
  {
   "cell_type": "code",
   "execution_count": 2,
   "metadata": {},
   "outputs": [
    {
     "data": {
      "text/html": [
       "<div>\n",
       "<style scoped>\n",
       "    .dataframe tbody tr th:only-of-type {\n",
       "        vertical-align: middle;\n",
       "    }\n",
       "\n",
       "    .dataframe tbody tr th {\n",
       "        vertical-align: top;\n",
       "    }\n",
       "\n",
       "    .dataframe thead th {\n",
       "        text-align: right;\n",
       "    }\n",
       "</style>\n",
       "<table border=\"1\" class=\"dataframe\">\n",
       "  <thead>\n",
       "    <tr style=\"text-align: right;\">\n",
       "      <th></th>\n",
       "      <th>arpu_6</th>\n",
       "      <th>arpu_7</th>\n",
       "      <th>arpu_8</th>\n",
       "      <th>onnet_mou_6</th>\n",
       "      <th>onnet_mou_7</th>\n",
       "      <th>onnet_mou_8</th>\n",
       "      <th>offnet_mou_6</th>\n",
       "      <th>offnet_mou_7</th>\n",
       "      <th>offnet_mou_8</th>\n",
       "      <th>roam_ic_mou_6</th>\n",
       "      <th>roam_ic_mou_7</th>\n",
       "      <th>roam_ic_mou_8</th>\n",
       "      <th>roam_og_mou_6</th>\n",
       "      <th>roam_og_mou_7</th>\n",
       "      <th>roam_og_mou_8</th>\n",
       "      <th>loc_og_t2t_mou_6</th>\n",
       "      <th>loc_og_t2t_mou_7</th>\n",
       "      <th>loc_og_t2t_mou_8</th>\n",
       "      <th>loc_og_t2m_mou_6</th>\n",
       "      <th>loc_og_t2m_mou_7</th>\n",
       "      <th>loc_og_t2m_mou_8</th>\n",
       "      <th>loc_og_t2f_mou_6</th>\n",
       "      <th>loc_og_t2f_mou_7</th>\n",
       "      <th>loc_og_t2f_mou_8</th>\n",
       "      <th>loc_og_t2c_mou_6</th>\n",
       "      <th>loc_og_t2c_mou_7</th>\n",
       "      <th>loc_og_t2c_mou_8</th>\n",
       "      <th>loc_og_mou_6</th>\n",
       "      <th>loc_og_mou_7</th>\n",
       "      <th>loc_og_mou_8</th>\n",
       "      <th>std_og_t2t_mou_6</th>\n",
       "      <th>std_og_t2t_mou_7</th>\n",
       "      <th>std_og_t2t_mou_8</th>\n",
       "      <th>std_og_t2m_mou_6</th>\n",
       "      <th>std_og_t2m_mou_7</th>\n",
       "      <th>std_og_t2m_mou_8</th>\n",
       "      <th>std_og_t2f_mou_6</th>\n",
       "      <th>std_og_t2f_mou_7</th>\n",
       "      <th>std_og_t2f_mou_8</th>\n",
       "      <th>std_og_mou_6</th>\n",
       "      <th>std_og_mou_7</th>\n",
       "      <th>std_og_mou_8</th>\n",
       "      <th>isd_og_mou_6</th>\n",
       "      <th>isd_og_mou_7</th>\n",
       "      <th>isd_og_mou_8</th>\n",
       "      <th>spl_og_mou_6</th>\n",
       "      <th>spl_og_mou_7</th>\n",
       "      <th>spl_og_mou_8</th>\n",
       "      <th>og_others_6</th>\n",
       "      <th>og_others_7</th>\n",
       "      <th>og_others_8</th>\n",
       "      <th>total_og_mou_6</th>\n",
       "      <th>total_og_mou_7</th>\n",
       "      <th>total_og_mou_8</th>\n",
       "      <th>loc_ic_t2t_mou_6</th>\n",
       "      <th>loc_ic_t2t_mou_7</th>\n",
       "      <th>loc_ic_t2t_mou_8</th>\n",
       "      <th>loc_ic_t2m_mou_6</th>\n",
       "      <th>loc_ic_t2m_mou_7</th>\n",
       "      <th>loc_ic_t2m_mou_8</th>\n",
       "      <th>loc_ic_t2f_mou_6</th>\n",
       "      <th>loc_ic_t2f_mou_7</th>\n",
       "      <th>loc_ic_t2f_mou_8</th>\n",
       "      <th>loc_ic_mou_6</th>\n",
       "      <th>loc_ic_mou_7</th>\n",
       "      <th>loc_ic_mou_8</th>\n",
       "      <th>std_ic_t2t_mou_6</th>\n",
       "      <th>std_ic_t2t_mou_7</th>\n",
       "      <th>std_ic_t2t_mou_8</th>\n",
       "      <th>std_ic_t2m_mou_6</th>\n",
       "      <th>std_ic_t2m_mou_7</th>\n",
       "      <th>std_ic_t2m_mou_8</th>\n",
       "      <th>std_ic_t2f_mou_6</th>\n",
       "      <th>std_ic_t2f_mou_7</th>\n",
       "      <th>std_ic_t2f_mou_8</th>\n",
       "      <th>std_ic_mou_6</th>\n",
       "      <th>std_ic_mou_7</th>\n",
       "      <th>std_ic_mou_8</th>\n",
       "      <th>total_ic_mou_6</th>\n",
       "      <th>total_ic_mou_7</th>\n",
       "      <th>total_ic_mou_8</th>\n",
       "      <th>spl_ic_mou_6</th>\n",
       "      <th>spl_ic_mou_7</th>\n",
       "      <th>spl_ic_mou_8</th>\n",
       "      <th>isd_ic_mou_6</th>\n",
       "      <th>isd_ic_mou_7</th>\n",
       "      <th>isd_ic_mou_8</th>\n",
       "      <th>ic_others_6</th>\n",
       "      <th>ic_others_7</th>\n",
       "      <th>ic_others_8</th>\n",
       "      <th>total_rech_num_6</th>\n",
       "      <th>total_rech_num_7</th>\n",
       "      <th>total_rech_num_8</th>\n",
       "      <th>total_rech_amt_6</th>\n",
       "      <th>total_rech_amt_7</th>\n",
       "      <th>total_rech_amt_8</th>\n",
       "      <th>max_rech_amt_6</th>\n",
       "      <th>max_rech_amt_7</th>\n",
       "      <th>max_rech_amt_8</th>\n",
       "      <th>last_day_rch_amt_6</th>\n",
       "      <th>last_day_rch_amt_7</th>\n",
       "      <th>last_day_rch_amt_8</th>\n",
       "      <th>total_rech_data_6</th>\n",
       "      <th>total_rech_data_7</th>\n",
       "      <th>total_rech_data_8</th>\n",
       "      <th>max_rech_data_6</th>\n",
       "      <th>max_rech_data_7</th>\n",
       "      <th>max_rech_data_8</th>\n",
       "      <th>count_rech_2g_6</th>\n",
       "      <th>count_rech_2g_7</th>\n",
       "      <th>count_rech_2g_8</th>\n",
       "      <th>count_rech_3g_6</th>\n",
       "      <th>count_rech_3g_7</th>\n",
       "      <th>count_rech_3g_8</th>\n",
       "      <th>av_rech_amt_data_6</th>\n",
       "      <th>av_rech_amt_data_7</th>\n",
       "      <th>av_rech_amt_data_8</th>\n",
       "      <th>vol_2g_mb_6</th>\n",
       "      <th>vol_2g_mb_7</th>\n",
       "      <th>vol_2g_mb_8</th>\n",
       "      <th>vol_3g_mb_6</th>\n",
       "      <th>vol_3g_mb_7</th>\n",
       "      <th>vol_3g_mb_8</th>\n",
       "      <th>night_pck_user_6</th>\n",
       "      <th>night_pck_user_7</th>\n",
       "      <th>night_pck_user_8</th>\n",
       "      <th>monthly_2g_6</th>\n",
       "      <th>monthly_2g_7</th>\n",
       "      <th>monthly_2g_8</th>\n",
       "      <th>sachet_2g_6</th>\n",
       "      <th>sachet_2g_7</th>\n",
       "      <th>sachet_2g_8</th>\n",
       "      <th>monthly_3g_6</th>\n",
       "      <th>monthly_3g_7</th>\n",
       "      <th>monthly_3g_8</th>\n",
       "      <th>sachet_3g_6</th>\n",
       "      <th>sachet_3g_7</th>\n",
       "      <th>sachet_3g_8</th>\n",
       "      <th>fb_user_6</th>\n",
       "      <th>fb_user_7</th>\n",
       "      <th>fb_user_8</th>\n",
       "      <th>aon</th>\n",
       "      <th>aug_vbc_3g</th>\n",
       "      <th>jul_vbc_3g</th>\n",
       "      <th>jun_vbc_3g</th>\n",
       "      <th>sep_vbc_3g</th>\n",
       "      <th>churn</th>\n",
       "    </tr>\n",
       "  </thead>\n",
       "  <tbody>\n",
       "    <tr>\n",
       "      <td>0</td>\n",
       "      <td>197.385</td>\n",
       "      <td>214.816</td>\n",
       "      <td>213.803</td>\n",
       "      <td>0.00</td>\n",
       "      <td>0.00</td>\n",
       "      <td>0.00</td>\n",
       "      <td>0.00</td>\n",
       "      <td>0.00</td>\n",
       "      <td>0.00</td>\n",
       "      <td>0.00</td>\n",
       "      <td>0.00</td>\n",
       "      <td>0.00</td>\n",
       "      <td>0.00</td>\n",
       "      <td>0.00</td>\n",
       "      <td>0.00</td>\n",
       "      <td>0.00</td>\n",
       "      <td>0.00</td>\n",
       "      <td>0.00</td>\n",
       "      <td>0.00</td>\n",
       "      <td>0.00</td>\n",
       "      <td>0.00</td>\n",
       "      <td>0.00</td>\n",
       "      <td>0.00</td>\n",
       "      <td>0.00</td>\n",
       "      <td>0.0</td>\n",
       "      <td>0.0</td>\n",
       "      <td>0.00</td>\n",
       "      <td>0.00</td>\n",
       "      <td>0.00</td>\n",
       "      <td>0.00</td>\n",
       "      <td>0.00</td>\n",
       "      <td>0.00</td>\n",
       "      <td>0.00</td>\n",
       "      <td>0.00</td>\n",
       "      <td>0.00</td>\n",
       "      <td>0.00</td>\n",
       "      <td>0.00</td>\n",
       "      <td>0.00</td>\n",
       "      <td>0.00</td>\n",
       "      <td>0.00</td>\n",
       "      <td>0.00</td>\n",
       "      <td>0.00</td>\n",
       "      <td>0.0</td>\n",
       "      <td>0.00</td>\n",
       "      <td>0.00</td>\n",
       "      <td>0.0</td>\n",
       "      <td>0.0</td>\n",
       "      <td>0.00</td>\n",
       "      <td>0.0</td>\n",
       "      <td>0.0</td>\n",
       "      <td>0.0</td>\n",
       "      <td>0.00</td>\n",
       "      <td>0.00</td>\n",
       "      <td>0.00</td>\n",
       "      <td>0.00</td>\n",
       "      <td>0.00</td>\n",
       "      <td>0.16</td>\n",
       "      <td>0.00</td>\n",
       "      <td>0.00</td>\n",
       "      <td>4.13</td>\n",
       "      <td>0.00</td>\n",
       "      <td>0.00</td>\n",
       "      <td>1.15</td>\n",
       "      <td>0.00</td>\n",
       "      <td>0.00</td>\n",
       "      <td>5.44</td>\n",
       "      <td>0.00</td>\n",
       "      <td>0.00</td>\n",
       "      <td>0.00</td>\n",
       "      <td>0.00</td>\n",
       "      <td>0.00</td>\n",
       "      <td>0.00</td>\n",
       "      <td>0.00</td>\n",
       "      <td>0.00</td>\n",
       "      <td>0.00</td>\n",
       "      <td>0.00</td>\n",
       "      <td>0.00</td>\n",
       "      <td>0.00</td>\n",
       "      <td>0.00</td>\n",
       "      <td>0.00</td>\n",
       "      <td>5.44</td>\n",
       "      <td>0.00</td>\n",
       "      <td>0.0</td>\n",
       "      <td>0.0</td>\n",
       "      <td>0.00</td>\n",
       "      <td>0.00</td>\n",
       "      <td>0.00</td>\n",
       "      <td>0.00</td>\n",
       "      <td>0.00</td>\n",
       "      <td>0.00</td>\n",
       "      <td>4</td>\n",
       "      <td>3</td>\n",
       "      <td>2</td>\n",
       "      <td>362</td>\n",
       "      <td>252</td>\n",
       "      <td>252</td>\n",
       "      <td>252</td>\n",
       "      <td>252</td>\n",
       "      <td>252</td>\n",
       "      <td>252</td>\n",
       "      <td>252</td>\n",
       "      <td>252</td>\n",
       "      <td>1.0</td>\n",
       "      <td>1.0</td>\n",
       "      <td>1.0</td>\n",
       "      <td>252.0</td>\n",
       "      <td>252.0</td>\n",
       "      <td>252.0</td>\n",
       "      <td>0.0</td>\n",
       "      <td>0.0</td>\n",
       "      <td>0.0</td>\n",
       "      <td>1.0</td>\n",
       "      <td>1.0</td>\n",
       "      <td>1.0</td>\n",
       "      <td>252.0</td>\n",
       "      <td>252.0</td>\n",
       "      <td>252.0</td>\n",
       "      <td>30.13</td>\n",
       "      <td>1.32</td>\n",
       "      <td>5.75</td>\n",
       "      <td>83.57</td>\n",
       "      <td>150.76</td>\n",
       "      <td>109.61</td>\n",
       "      <td>0.0</td>\n",
       "      <td>0.0</td>\n",
       "      <td>0.0</td>\n",
       "      <td>0</td>\n",
       "      <td>0</td>\n",
       "      <td>0</td>\n",
       "      <td>0</td>\n",
       "      <td>0</td>\n",
       "      <td>0</td>\n",
       "      <td>1</td>\n",
       "      <td>1</td>\n",
       "      <td>1</td>\n",
       "      <td>0</td>\n",
       "      <td>0</td>\n",
       "      <td>0</td>\n",
       "      <td>1.0</td>\n",
       "      <td>1.0</td>\n",
       "      <td>1.0</td>\n",
       "      <td>968</td>\n",
       "      <td>30.40</td>\n",
       "      <td>0.00</td>\n",
       "      <td>101.20</td>\n",
       "      <td>3.58</td>\n",
       "      <td>1</td>\n",
       "    </tr>\n",
       "    <tr>\n",
       "      <td>1</td>\n",
       "      <td>1069.180</td>\n",
       "      <td>1349.850</td>\n",
       "      <td>3171.480</td>\n",
       "      <td>57.84</td>\n",
       "      <td>54.68</td>\n",
       "      <td>52.29</td>\n",
       "      <td>453.43</td>\n",
       "      <td>567.16</td>\n",
       "      <td>325.91</td>\n",
       "      <td>16.23</td>\n",
       "      <td>33.49</td>\n",
       "      <td>31.64</td>\n",
       "      <td>23.74</td>\n",
       "      <td>12.59</td>\n",
       "      <td>38.06</td>\n",
       "      <td>51.39</td>\n",
       "      <td>31.38</td>\n",
       "      <td>40.28</td>\n",
       "      <td>308.63</td>\n",
       "      <td>447.38</td>\n",
       "      <td>162.28</td>\n",
       "      <td>62.13</td>\n",
       "      <td>55.14</td>\n",
       "      <td>53.23</td>\n",
       "      <td>0.0</td>\n",
       "      <td>0.0</td>\n",
       "      <td>0.00</td>\n",
       "      <td>422.16</td>\n",
       "      <td>533.91</td>\n",
       "      <td>255.79</td>\n",
       "      <td>4.30</td>\n",
       "      <td>23.29</td>\n",
       "      <td>12.01</td>\n",
       "      <td>49.89</td>\n",
       "      <td>31.76</td>\n",
       "      <td>49.14</td>\n",
       "      <td>6.66</td>\n",
       "      <td>20.08</td>\n",
       "      <td>16.68</td>\n",
       "      <td>60.86</td>\n",
       "      <td>75.14</td>\n",
       "      <td>77.84</td>\n",
       "      <td>0.0</td>\n",
       "      <td>0.18</td>\n",
       "      <td>10.01</td>\n",
       "      <td>4.5</td>\n",
       "      <td>0.0</td>\n",
       "      <td>6.50</td>\n",
       "      <td>0.0</td>\n",
       "      <td>0.0</td>\n",
       "      <td>0.0</td>\n",
       "      <td>487.53</td>\n",
       "      <td>609.24</td>\n",
       "      <td>350.16</td>\n",
       "      <td>58.14</td>\n",
       "      <td>32.26</td>\n",
       "      <td>27.31</td>\n",
       "      <td>217.56</td>\n",
       "      <td>221.49</td>\n",
       "      <td>121.19</td>\n",
       "      <td>152.16</td>\n",
       "      <td>101.46</td>\n",
       "      <td>39.53</td>\n",
       "      <td>427.88</td>\n",
       "      <td>355.23</td>\n",
       "      <td>188.04</td>\n",
       "      <td>36.89</td>\n",
       "      <td>11.83</td>\n",
       "      <td>30.39</td>\n",
       "      <td>91.44</td>\n",
       "      <td>126.99</td>\n",
       "      <td>141.33</td>\n",
       "      <td>52.19</td>\n",
       "      <td>34.24</td>\n",
       "      <td>22.21</td>\n",
       "      <td>180.54</td>\n",
       "      <td>173.08</td>\n",
       "      <td>193.94</td>\n",
       "      <td>626.46</td>\n",
       "      <td>558.04</td>\n",
       "      <td>428.74</td>\n",
       "      <td>0.21</td>\n",
       "      <td>0.0</td>\n",
       "      <td>0.0</td>\n",
       "      <td>2.06</td>\n",
       "      <td>14.53</td>\n",
       "      <td>31.59</td>\n",
       "      <td>15.74</td>\n",
       "      <td>15.19</td>\n",
       "      <td>15.14</td>\n",
       "      <td>5</td>\n",
       "      <td>5</td>\n",
       "      <td>7</td>\n",
       "      <td>1580</td>\n",
       "      <td>790</td>\n",
       "      <td>3638</td>\n",
       "      <td>1580</td>\n",
       "      <td>790</td>\n",
       "      <td>1580</td>\n",
       "      <td>0</td>\n",
       "      <td>0</td>\n",
       "      <td>779</td>\n",
       "      <td>0.0</td>\n",
       "      <td>0.0</td>\n",
       "      <td>0.0</td>\n",
       "      <td>0.0</td>\n",
       "      <td>0.0</td>\n",
       "      <td>0.0</td>\n",
       "      <td>0.0</td>\n",
       "      <td>0.0</td>\n",
       "      <td>0.0</td>\n",
       "      <td>0.0</td>\n",
       "      <td>0.0</td>\n",
       "      <td>0.0</td>\n",
       "      <td>0.0</td>\n",
       "      <td>0.0</td>\n",
       "      <td>0.0</td>\n",
       "      <td>0.00</td>\n",
       "      <td>0.00</td>\n",
       "      <td>0.00</td>\n",
       "      <td>0.00</td>\n",
       "      <td>0.00</td>\n",
       "      <td>0.00</td>\n",
       "      <td>0.0</td>\n",
       "      <td>0.0</td>\n",
       "      <td>0.0</td>\n",
       "      <td>0</td>\n",
       "      <td>0</td>\n",
       "      <td>0</td>\n",
       "      <td>0</td>\n",
       "      <td>0</td>\n",
       "      <td>0</td>\n",
       "      <td>0</td>\n",
       "      <td>0</td>\n",
       "      <td>0</td>\n",
       "      <td>0</td>\n",
       "      <td>0</td>\n",
       "      <td>0</td>\n",
       "      <td>0.0</td>\n",
       "      <td>0.0</td>\n",
       "      <td>0.0</td>\n",
       "      <td>802</td>\n",
       "      <td>57.74</td>\n",
       "      <td>19.38</td>\n",
       "      <td>18.74</td>\n",
       "      <td>0.00</td>\n",
       "      <td>1</td>\n",
       "    </tr>\n",
       "    <tr>\n",
       "      <td>2</td>\n",
       "      <td>378.721</td>\n",
       "      <td>492.223</td>\n",
       "      <td>137.362</td>\n",
       "      <td>413.69</td>\n",
       "      <td>351.03</td>\n",
       "      <td>35.08</td>\n",
       "      <td>94.66</td>\n",
       "      <td>80.63</td>\n",
       "      <td>136.48</td>\n",
       "      <td>0.00</td>\n",
       "      <td>0.00</td>\n",
       "      <td>0.00</td>\n",
       "      <td>0.00</td>\n",
       "      <td>0.00</td>\n",
       "      <td>0.00</td>\n",
       "      <td>297.13</td>\n",
       "      <td>217.59</td>\n",
       "      <td>12.49</td>\n",
       "      <td>80.96</td>\n",
       "      <td>70.58</td>\n",
       "      <td>50.54</td>\n",
       "      <td>0.00</td>\n",
       "      <td>0.00</td>\n",
       "      <td>0.00</td>\n",
       "      <td>0.0</td>\n",
       "      <td>0.0</td>\n",
       "      <td>7.15</td>\n",
       "      <td>378.09</td>\n",
       "      <td>288.18</td>\n",
       "      <td>63.04</td>\n",
       "      <td>116.56</td>\n",
       "      <td>133.43</td>\n",
       "      <td>22.58</td>\n",
       "      <td>13.69</td>\n",
       "      <td>10.04</td>\n",
       "      <td>75.69</td>\n",
       "      <td>0.00</td>\n",
       "      <td>0.00</td>\n",
       "      <td>0.00</td>\n",
       "      <td>130.26</td>\n",
       "      <td>143.48</td>\n",
       "      <td>98.28</td>\n",
       "      <td>0.0</td>\n",
       "      <td>0.00</td>\n",
       "      <td>0.00</td>\n",
       "      <td>0.0</td>\n",
       "      <td>0.0</td>\n",
       "      <td>10.23</td>\n",
       "      <td>0.0</td>\n",
       "      <td>0.0</td>\n",
       "      <td>0.0</td>\n",
       "      <td>508.36</td>\n",
       "      <td>431.66</td>\n",
       "      <td>171.56</td>\n",
       "      <td>23.84</td>\n",
       "      <td>9.84</td>\n",
       "      <td>0.31</td>\n",
       "      <td>57.58</td>\n",
       "      <td>13.98</td>\n",
       "      <td>15.48</td>\n",
       "      <td>0.00</td>\n",
       "      <td>0.00</td>\n",
       "      <td>0.00</td>\n",
       "      <td>81.43</td>\n",
       "      <td>23.83</td>\n",
       "      <td>15.79</td>\n",
       "      <td>0.00</td>\n",
       "      <td>0.58</td>\n",
       "      <td>0.10</td>\n",
       "      <td>22.43</td>\n",
       "      <td>4.08</td>\n",
       "      <td>0.65</td>\n",
       "      <td>0.00</td>\n",
       "      <td>0.00</td>\n",
       "      <td>0.00</td>\n",
       "      <td>22.43</td>\n",
       "      <td>4.66</td>\n",
       "      <td>0.75</td>\n",
       "      <td>103.86</td>\n",
       "      <td>28.49</td>\n",
       "      <td>16.54</td>\n",
       "      <td>0.00</td>\n",
       "      <td>0.0</td>\n",
       "      <td>0.0</td>\n",
       "      <td>0.00</td>\n",
       "      <td>0.00</td>\n",
       "      <td>0.00</td>\n",
       "      <td>0.00</td>\n",
       "      <td>0.00</td>\n",
       "      <td>0.00</td>\n",
       "      <td>19</td>\n",
       "      <td>21</td>\n",
       "      <td>14</td>\n",
       "      <td>437</td>\n",
       "      <td>601</td>\n",
       "      <td>120</td>\n",
       "      <td>90</td>\n",
       "      <td>154</td>\n",
       "      <td>30</td>\n",
       "      <td>50</td>\n",
       "      <td>0</td>\n",
       "      <td>10</td>\n",
       "      <td>0.0</td>\n",
       "      <td>2.0</td>\n",
       "      <td>3.0</td>\n",
       "      <td>0.0</td>\n",
       "      <td>154.0</td>\n",
       "      <td>23.0</td>\n",
       "      <td>0.0</td>\n",
       "      <td>2.0</td>\n",
       "      <td>3.0</td>\n",
       "      <td>0.0</td>\n",
       "      <td>0.0</td>\n",
       "      <td>0.0</td>\n",
       "      <td>0.0</td>\n",
       "      <td>177.0</td>\n",
       "      <td>69.0</td>\n",
       "      <td>0.00</td>\n",
       "      <td>356.00</td>\n",
       "      <td>0.03</td>\n",
       "      <td>0.00</td>\n",
       "      <td>750.95</td>\n",
       "      <td>11.94</td>\n",
       "      <td>0.0</td>\n",
       "      <td>0.0</td>\n",
       "      <td>0.0</td>\n",
       "      <td>0</td>\n",
       "      <td>1</td>\n",
       "      <td>0</td>\n",
       "      <td>0</td>\n",
       "      <td>1</td>\n",
       "      <td>3</td>\n",
       "      <td>0</td>\n",
       "      <td>0</td>\n",
       "      <td>0</td>\n",
       "      <td>0</td>\n",
       "      <td>0</td>\n",
       "      <td>0</td>\n",
       "      <td>0.0</td>\n",
       "      <td>1.0</td>\n",
       "      <td>1.0</td>\n",
       "      <td>315</td>\n",
       "      <td>21.03</td>\n",
       "      <td>910.65</td>\n",
       "      <td>122.16</td>\n",
       "      <td>0.00</td>\n",
       "      <td>0</td>\n",
       "    </tr>\n",
       "    <tr>\n",
       "      <td>3</td>\n",
       "      <td>514.453</td>\n",
       "      <td>597.753</td>\n",
       "      <td>637.760</td>\n",
       "      <td>102.41</td>\n",
       "      <td>132.11</td>\n",
       "      <td>85.14</td>\n",
       "      <td>757.93</td>\n",
       "      <td>896.68</td>\n",
       "      <td>983.39</td>\n",
       "      <td>0.00</td>\n",
       "      <td>0.00</td>\n",
       "      <td>0.00</td>\n",
       "      <td>0.00</td>\n",
       "      <td>0.00</td>\n",
       "      <td>0.00</td>\n",
       "      <td>4.48</td>\n",
       "      <td>6.16</td>\n",
       "      <td>23.34</td>\n",
       "      <td>91.81</td>\n",
       "      <td>87.93</td>\n",
       "      <td>104.81</td>\n",
       "      <td>0.75</td>\n",
       "      <td>0.00</td>\n",
       "      <td>1.58</td>\n",
       "      <td>0.0</td>\n",
       "      <td>0.0</td>\n",
       "      <td>0.00</td>\n",
       "      <td>97.04</td>\n",
       "      <td>94.09</td>\n",
       "      <td>129.74</td>\n",
       "      <td>97.93</td>\n",
       "      <td>125.94</td>\n",
       "      <td>61.79</td>\n",
       "      <td>665.36</td>\n",
       "      <td>808.74</td>\n",
       "      <td>876.99</td>\n",
       "      <td>0.00</td>\n",
       "      <td>0.00</td>\n",
       "      <td>0.00</td>\n",
       "      <td>763.29</td>\n",
       "      <td>934.69</td>\n",
       "      <td>938.79</td>\n",
       "      <td>0.0</td>\n",
       "      <td>0.00</td>\n",
       "      <td>0.00</td>\n",
       "      <td>0.0</td>\n",
       "      <td>0.0</td>\n",
       "      <td>0.00</td>\n",
       "      <td>0.0</td>\n",
       "      <td>0.0</td>\n",
       "      <td>0.0</td>\n",
       "      <td>860.34</td>\n",
       "      <td>1028.79</td>\n",
       "      <td>1068.54</td>\n",
       "      <td>2.48</td>\n",
       "      <td>10.19</td>\n",
       "      <td>19.54</td>\n",
       "      <td>118.23</td>\n",
       "      <td>74.63</td>\n",
       "      <td>129.16</td>\n",
       "      <td>4.61</td>\n",
       "      <td>2.84</td>\n",
       "      <td>10.39</td>\n",
       "      <td>125.33</td>\n",
       "      <td>87.68</td>\n",
       "      <td>159.11</td>\n",
       "      <td>14.06</td>\n",
       "      <td>5.98</td>\n",
       "      <td>0.18</td>\n",
       "      <td>67.69</td>\n",
       "      <td>38.23</td>\n",
       "      <td>101.74</td>\n",
       "      <td>0.00</td>\n",
       "      <td>0.00</td>\n",
       "      <td>0.00</td>\n",
       "      <td>81.76</td>\n",
       "      <td>44.21</td>\n",
       "      <td>101.93</td>\n",
       "      <td>207.09</td>\n",
       "      <td>131.89</td>\n",
       "      <td>261.04</td>\n",
       "      <td>0.00</td>\n",
       "      <td>0.0</td>\n",
       "      <td>0.0</td>\n",
       "      <td>0.00</td>\n",
       "      <td>0.00</td>\n",
       "      <td>0.00</td>\n",
       "      <td>0.00</td>\n",
       "      <td>0.00</td>\n",
       "      <td>0.00</td>\n",
       "      <td>22</td>\n",
       "      <td>26</td>\n",
       "      <td>27</td>\n",
       "      <td>600</td>\n",
       "      <td>680</td>\n",
       "      <td>718</td>\n",
       "      <td>50</td>\n",
       "      <td>50</td>\n",
       "      <td>50</td>\n",
       "      <td>30</td>\n",
       "      <td>20</td>\n",
       "      <td>50</td>\n",
       "      <td>0.0</td>\n",
       "      <td>0.0</td>\n",
       "      <td>0.0</td>\n",
       "      <td>0.0</td>\n",
       "      <td>0.0</td>\n",
       "      <td>0.0</td>\n",
       "      <td>0.0</td>\n",
       "      <td>0.0</td>\n",
       "      <td>0.0</td>\n",
       "      <td>0.0</td>\n",
       "      <td>0.0</td>\n",
       "      <td>0.0</td>\n",
       "      <td>0.0</td>\n",
       "      <td>0.0</td>\n",
       "      <td>0.0</td>\n",
       "      <td>0.00</td>\n",
       "      <td>0.00</td>\n",
       "      <td>0.00</td>\n",
       "      <td>0.00</td>\n",
       "      <td>0.00</td>\n",
       "      <td>0.00</td>\n",
       "      <td>0.0</td>\n",
       "      <td>0.0</td>\n",
       "      <td>0.0</td>\n",
       "      <td>0</td>\n",
       "      <td>0</td>\n",
       "      <td>0</td>\n",
       "      <td>0</td>\n",
       "      <td>0</td>\n",
       "      <td>0</td>\n",
       "      <td>0</td>\n",
       "      <td>0</td>\n",
       "      <td>0</td>\n",
       "      <td>0</td>\n",
       "      <td>0</td>\n",
       "      <td>0</td>\n",
       "      <td>0.0</td>\n",
       "      <td>0.0</td>\n",
       "      <td>0.0</td>\n",
       "      <td>720</td>\n",
       "      <td>0.00</td>\n",
       "      <td>0.00</td>\n",
       "      <td>0.00</td>\n",
       "      <td>0.00</td>\n",
       "      <td>0</td>\n",
       "    </tr>\n",
       "    <tr>\n",
       "      <td>4</td>\n",
       "      <td>74.350</td>\n",
       "      <td>193.897</td>\n",
       "      <td>366.966</td>\n",
       "      <td>48.96</td>\n",
       "      <td>50.66</td>\n",
       "      <td>33.58</td>\n",
       "      <td>85.41</td>\n",
       "      <td>89.36</td>\n",
       "      <td>205.89</td>\n",
       "      <td>0.00</td>\n",
       "      <td>0.00</td>\n",
       "      <td>0.00</td>\n",
       "      <td>0.00</td>\n",
       "      <td>0.00</td>\n",
       "      <td>0.00</td>\n",
       "      <td>48.96</td>\n",
       "      <td>50.66</td>\n",
       "      <td>33.58</td>\n",
       "      <td>82.94</td>\n",
       "      <td>83.01</td>\n",
       "      <td>148.56</td>\n",
       "      <td>0.00</td>\n",
       "      <td>0.00</td>\n",
       "      <td>0.00</td>\n",
       "      <td>0.0</td>\n",
       "      <td>0.0</td>\n",
       "      <td>17.71</td>\n",
       "      <td>131.91</td>\n",
       "      <td>133.68</td>\n",
       "      <td>182.14</td>\n",
       "      <td>0.00</td>\n",
       "      <td>0.00</td>\n",
       "      <td>0.00</td>\n",
       "      <td>2.36</td>\n",
       "      <td>6.35</td>\n",
       "      <td>39.61</td>\n",
       "      <td>0.00</td>\n",
       "      <td>0.00</td>\n",
       "      <td>0.00</td>\n",
       "      <td>2.36</td>\n",
       "      <td>6.35</td>\n",
       "      <td>39.61</td>\n",
       "      <td>0.0</td>\n",
       "      <td>0.01</td>\n",
       "      <td>0.00</td>\n",
       "      <td>0.1</td>\n",
       "      <td>0.0</td>\n",
       "      <td>17.71</td>\n",
       "      <td>0.0</td>\n",
       "      <td>0.0</td>\n",
       "      <td>0.0</td>\n",
       "      <td>134.38</td>\n",
       "      <td>140.04</td>\n",
       "      <td>239.48</td>\n",
       "      <td>20.71</td>\n",
       "      <td>61.04</td>\n",
       "      <td>76.64</td>\n",
       "      <td>95.91</td>\n",
       "      <td>113.36</td>\n",
       "      <td>146.84</td>\n",
       "      <td>0.00</td>\n",
       "      <td>0.00</td>\n",
       "      <td>0.71</td>\n",
       "      <td>116.63</td>\n",
       "      <td>174.41</td>\n",
       "      <td>224.21</td>\n",
       "      <td>0.51</td>\n",
       "      <td>0.00</td>\n",
       "      <td>13.38</td>\n",
       "      <td>2.43</td>\n",
       "      <td>14.89</td>\n",
       "      <td>43.91</td>\n",
       "      <td>0.00</td>\n",
       "      <td>0.00</td>\n",
       "      <td>0.00</td>\n",
       "      <td>2.94</td>\n",
       "      <td>14.89</td>\n",
       "      <td>57.29</td>\n",
       "      <td>119.58</td>\n",
       "      <td>222.89</td>\n",
       "      <td>298.33</td>\n",
       "      <td>0.00</td>\n",
       "      <td>0.0</td>\n",
       "      <td>0.0</td>\n",
       "      <td>0.00</td>\n",
       "      <td>28.23</td>\n",
       "      <td>3.74</td>\n",
       "      <td>0.00</td>\n",
       "      <td>5.35</td>\n",
       "      <td>13.06</td>\n",
       "      <td>3</td>\n",
       "      <td>5</td>\n",
       "      <td>4</td>\n",
       "      <td>0</td>\n",
       "      <td>454</td>\n",
       "      <td>439</td>\n",
       "      <td>0</td>\n",
       "      <td>179</td>\n",
       "      <td>179</td>\n",
       "      <td>0</td>\n",
       "      <td>179</td>\n",
       "      <td>0</td>\n",
       "      <td>0.0</td>\n",
       "      <td>2.0</td>\n",
       "      <td>2.0</td>\n",
       "      <td>0.0</td>\n",
       "      <td>179.0</td>\n",
       "      <td>179.0</td>\n",
       "      <td>0.0</td>\n",
       "      <td>0.0</td>\n",
       "      <td>0.0</td>\n",
       "      <td>0.0</td>\n",
       "      <td>2.0</td>\n",
       "      <td>2.0</td>\n",
       "      <td>0.0</td>\n",
       "      <td>356.0</td>\n",
       "      <td>270.0</td>\n",
       "      <td>0.00</td>\n",
       "      <td>0.48</td>\n",
       "      <td>0.01</td>\n",
       "      <td>0.00</td>\n",
       "      <td>599.09</td>\n",
       "      <td>1009.92</td>\n",
       "      <td>0.0</td>\n",
       "      <td>0.0</td>\n",
       "      <td>0.0</td>\n",
       "      <td>0</td>\n",
       "      <td>0</td>\n",
       "      <td>0</td>\n",
       "      <td>0</td>\n",
       "      <td>0</td>\n",
       "      <td>0</td>\n",
       "      <td>0</td>\n",
       "      <td>2</td>\n",
       "      <td>1</td>\n",
       "      <td>0</td>\n",
       "      <td>0</td>\n",
       "      <td>1</td>\n",
       "      <td>0.0</td>\n",
       "      <td>1.0</td>\n",
       "      <td>1.0</td>\n",
       "      <td>604</td>\n",
       "      <td>40.45</td>\n",
       "      <td>51.86</td>\n",
       "      <td>0.00</td>\n",
       "      <td>0.00</td>\n",
       "      <td>0</td>\n",
       "    </tr>\n",
       "  </tbody>\n",
       "</table>\n",
       "</div>"
      ],
      "text/plain": [
       "     arpu_6    arpu_7    arpu_8  onnet_mou_6  onnet_mou_7  onnet_mou_8  \\\n",
       "0   197.385   214.816   213.803         0.00         0.00         0.00   \n",
       "1  1069.180  1349.850  3171.480        57.84        54.68        52.29   \n",
       "2   378.721   492.223   137.362       413.69       351.03        35.08   \n",
       "3   514.453   597.753   637.760       102.41       132.11        85.14   \n",
       "4    74.350   193.897   366.966        48.96        50.66        33.58   \n",
       "\n",
       "   offnet_mou_6  offnet_mou_7  offnet_mou_8  roam_ic_mou_6  roam_ic_mou_7  \\\n",
       "0          0.00          0.00          0.00           0.00           0.00   \n",
       "1        453.43        567.16        325.91          16.23          33.49   \n",
       "2         94.66         80.63        136.48           0.00           0.00   \n",
       "3        757.93        896.68        983.39           0.00           0.00   \n",
       "4         85.41         89.36        205.89           0.00           0.00   \n",
       "\n",
       "   roam_ic_mou_8  roam_og_mou_6  roam_og_mou_7  roam_og_mou_8  \\\n",
       "0           0.00           0.00           0.00           0.00   \n",
       "1          31.64          23.74          12.59          38.06   \n",
       "2           0.00           0.00           0.00           0.00   \n",
       "3           0.00           0.00           0.00           0.00   \n",
       "4           0.00           0.00           0.00           0.00   \n",
       "\n",
       "   loc_og_t2t_mou_6  loc_og_t2t_mou_7  loc_og_t2t_mou_8  loc_og_t2m_mou_6  \\\n",
       "0              0.00              0.00              0.00              0.00   \n",
       "1             51.39             31.38             40.28            308.63   \n",
       "2            297.13            217.59             12.49             80.96   \n",
       "3              4.48              6.16             23.34             91.81   \n",
       "4             48.96             50.66             33.58             82.94   \n",
       "\n",
       "   loc_og_t2m_mou_7  loc_og_t2m_mou_8  loc_og_t2f_mou_6  loc_og_t2f_mou_7  \\\n",
       "0              0.00              0.00              0.00              0.00   \n",
       "1            447.38            162.28             62.13             55.14   \n",
       "2             70.58             50.54              0.00              0.00   \n",
       "3             87.93            104.81              0.75              0.00   \n",
       "4             83.01            148.56              0.00              0.00   \n",
       "\n",
       "   loc_og_t2f_mou_8  loc_og_t2c_mou_6  loc_og_t2c_mou_7  loc_og_t2c_mou_8  \\\n",
       "0              0.00               0.0               0.0              0.00   \n",
       "1             53.23               0.0               0.0              0.00   \n",
       "2              0.00               0.0               0.0              7.15   \n",
       "3              1.58               0.0               0.0              0.00   \n",
       "4              0.00               0.0               0.0             17.71   \n",
       "\n",
       "   loc_og_mou_6  loc_og_mou_7  loc_og_mou_8  std_og_t2t_mou_6  \\\n",
       "0          0.00          0.00          0.00              0.00   \n",
       "1        422.16        533.91        255.79              4.30   \n",
       "2        378.09        288.18         63.04            116.56   \n",
       "3         97.04         94.09        129.74             97.93   \n",
       "4        131.91        133.68        182.14              0.00   \n",
       "\n",
       "   std_og_t2t_mou_7  std_og_t2t_mou_8  std_og_t2m_mou_6  std_og_t2m_mou_7  \\\n",
       "0              0.00              0.00              0.00              0.00   \n",
       "1             23.29             12.01             49.89             31.76   \n",
       "2            133.43             22.58             13.69             10.04   \n",
       "3            125.94             61.79            665.36            808.74   \n",
       "4              0.00              0.00              2.36              6.35   \n",
       "\n",
       "   std_og_t2m_mou_8  std_og_t2f_mou_6  std_og_t2f_mou_7  std_og_t2f_mou_8  \\\n",
       "0              0.00              0.00              0.00              0.00   \n",
       "1             49.14              6.66             20.08             16.68   \n",
       "2             75.69              0.00              0.00              0.00   \n",
       "3            876.99              0.00              0.00              0.00   \n",
       "4             39.61              0.00              0.00              0.00   \n",
       "\n",
       "   std_og_mou_6  std_og_mou_7  std_og_mou_8  isd_og_mou_6  isd_og_mou_7  \\\n",
       "0          0.00          0.00          0.00           0.0          0.00   \n",
       "1         60.86         75.14         77.84           0.0          0.18   \n",
       "2        130.26        143.48         98.28           0.0          0.00   \n",
       "3        763.29        934.69        938.79           0.0          0.00   \n",
       "4          2.36          6.35         39.61           0.0          0.01   \n",
       "\n",
       "   isd_og_mou_8  spl_og_mou_6  spl_og_mou_7  spl_og_mou_8  og_others_6  \\\n",
       "0          0.00           0.0           0.0          0.00          0.0   \n",
       "1         10.01           4.5           0.0          6.50          0.0   \n",
       "2          0.00           0.0           0.0         10.23          0.0   \n",
       "3          0.00           0.0           0.0          0.00          0.0   \n",
       "4          0.00           0.1           0.0         17.71          0.0   \n",
       "\n",
       "   og_others_7  og_others_8  total_og_mou_6  total_og_mou_7  total_og_mou_8  \\\n",
       "0          0.0          0.0            0.00            0.00            0.00   \n",
       "1          0.0          0.0          487.53          609.24          350.16   \n",
       "2          0.0          0.0          508.36          431.66          171.56   \n",
       "3          0.0          0.0          860.34         1028.79         1068.54   \n",
       "4          0.0          0.0          134.38          140.04          239.48   \n",
       "\n",
       "   loc_ic_t2t_mou_6  loc_ic_t2t_mou_7  loc_ic_t2t_mou_8  loc_ic_t2m_mou_6  \\\n",
       "0              0.00              0.00              0.16              0.00   \n",
       "1             58.14             32.26             27.31            217.56   \n",
       "2             23.84              9.84              0.31             57.58   \n",
       "3              2.48             10.19             19.54            118.23   \n",
       "4             20.71             61.04             76.64             95.91   \n",
       "\n",
       "   loc_ic_t2m_mou_7  loc_ic_t2m_mou_8  loc_ic_t2f_mou_6  loc_ic_t2f_mou_7  \\\n",
       "0              0.00              4.13              0.00              0.00   \n",
       "1            221.49            121.19            152.16            101.46   \n",
       "2             13.98             15.48              0.00              0.00   \n",
       "3             74.63            129.16              4.61              2.84   \n",
       "4            113.36            146.84              0.00              0.00   \n",
       "\n",
       "   loc_ic_t2f_mou_8  loc_ic_mou_6  loc_ic_mou_7  loc_ic_mou_8  \\\n",
       "0              1.15          0.00          0.00          5.44   \n",
       "1             39.53        427.88        355.23        188.04   \n",
       "2              0.00         81.43         23.83         15.79   \n",
       "3             10.39        125.33         87.68        159.11   \n",
       "4              0.71        116.63        174.41        224.21   \n",
       "\n",
       "   std_ic_t2t_mou_6  std_ic_t2t_mou_7  std_ic_t2t_mou_8  std_ic_t2m_mou_6  \\\n",
       "0              0.00              0.00              0.00              0.00   \n",
       "1             36.89             11.83             30.39             91.44   \n",
       "2              0.00              0.58              0.10             22.43   \n",
       "3             14.06              5.98              0.18             67.69   \n",
       "4              0.51              0.00             13.38              2.43   \n",
       "\n",
       "   std_ic_t2m_mou_7  std_ic_t2m_mou_8  std_ic_t2f_mou_6  std_ic_t2f_mou_7  \\\n",
       "0              0.00              0.00              0.00              0.00   \n",
       "1            126.99            141.33             52.19             34.24   \n",
       "2              4.08              0.65              0.00              0.00   \n",
       "3             38.23            101.74              0.00              0.00   \n",
       "4             14.89             43.91              0.00              0.00   \n",
       "\n",
       "   std_ic_t2f_mou_8  std_ic_mou_6  std_ic_mou_7  std_ic_mou_8  total_ic_mou_6  \\\n",
       "0              0.00          0.00          0.00          0.00            0.00   \n",
       "1             22.21        180.54        173.08        193.94          626.46   \n",
       "2              0.00         22.43          4.66          0.75          103.86   \n",
       "3              0.00         81.76         44.21        101.93          207.09   \n",
       "4              0.00          2.94         14.89         57.29          119.58   \n",
       "\n",
       "   total_ic_mou_7  total_ic_mou_8  spl_ic_mou_6  spl_ic_mou_7  spl_ic_mou_8  \\\n",
       "0            0.00            5.44          0.00           0.0           0.0   \n",
       "1          558.04          428.74          0.21           0.0           0.0   \n",
       "2           28.49           16.54          0.00           0.0           0.0   \n",
       "3          131.89          261.04          0.00           0.0           0.0   \n",
       "4          222.89          298.33          0.00           0.0           0.0   \n",
       "\n",
       "   isd_ic_mou_6  isd_ic_mou_7  isd_ic_mou_8  ic_others_6  ic_others_7  \\\n",
       "0          0.00          0.00          0.00         0.00         0.00   \n",
       "1          2.06         14.53         31.59        15.74        15.19   \n",
       "2          0.00          0.00          0.00         0.00         0.00   \n",
       "3          0.00          0.00          0.00         0.00         0.00   \n",
       "4          0.00         28.23          3.74         0.00         5.35   \n",
       "\n",
       "   ic_others_8  total_rech_num_6  total_rech_num_7  total_rech_num_8  \\\n",
       "0         0.00                 4                 3                 2   \n",
       "1        15.14                 5                 5                 7   \n",
       "2         0.00                19                21                14   \n",
       "3         0.00                22                26                27   \n",
       "4        13.06                 3                 5                 4   \n",
       "\n",
       "   total_rech_amt_6  total_rech_amt_7  total_rech_amt_8  max_rech_amt_6  \\\n",
       "0               362               252               252             252   \n",
       "1              1580               790              3638            1580   \n",
       "2               437               601               120              90   \n",
       "3               600               680               718              50   \n",
       "4                 0               454               439               0   \n",
       "\n",
       "   max_rech_amt_7  max_rech_amt_8  last_day_rch_amt_6  last_day_rch_amt_7  \\\n",
       "0             252             252                 252                 252   \n",
       "1             790            1580                   0                   0   \n",
       "2             154              30                  50                   0   \n",
       "3              50              50                  30                  20   \n",
       "4             179             179                   0                 179   \n",
       "\n",
       "   last_day_rch_amt_8  total_rech_data_6  total_rech_data_7  \\\n",
       "0                 252                1.0                1.0   \n",
       "1                 779                0.0                0.0   \n",
       "2                  10                0.0                2.0   \n",
       "3                  50                0.0                0.0   \n",
       "4                   0                0.0                2.0   \n",
       "\n",
       "   total_rech_data_8  max_rech_data_6  max_rech_data_7  max_rech_data_8  \\\n",
       "0                1.0            252.0            252.0            252.0   \n",
       "1                0.0              0.0              0.0              0.0   \n",
       "2                3.0              0.0            154.0             23.0   \n",
       "3                0.0              0.0              0.0              0.0   \n",
       "4                2.0              0.0            179.0            179.0   \n",
       "\n",
       "   count_rech_2g_6  count_rech_2g_7  count_rech_2g_8  count_rech_3g_6  \\\n",
       "0              0.0              0.0              0.0              1.0   \n",
       "1              0.0              0.0              0.0              0.0   \n",
       "2              0.0              2.0              3.0              0.0   \n",
       "3              0.0              0.0              0.0              0.0   \n",
       "4              0.0              0.0              0.0              0.0   \n",
       "\n",
       "   count_rech_3g_7  count_rech_3g_8  av_rech_amt_data_6  av_rech_amt_data_7  \\\n",
       "0              1.0              1.0               252.0               252.0   \n",
       "1              0.0              0.0                 0.0                 0.0   \n",
       "2              0.0              0.0                 0.0               177.0   \n",
       "3              0.0              0.0                 0.0                 0.0   \n",
       "4              2.0              2.0                 0.0               356.0   \n",
       "\n",
       "   av_rech_amt_data_8  vol_2g_mb_6  vol_2g_mb_7  vol_2g_mb_8  vol_3g_mb_6  \\\n",
       "0               252.0        30.13         1.32         5.75        83.57   \n",
       "1                 0.0         0.00         0.00         0.00         0.00   \n",
       "2                69.0         0.00       356.00         0.03         0.00   \n",
       "3                 0.0         0.00         0.00         0.00         0.00   \n",
       "4               270.0         0.00         0.48         0.01         0.00   \n",
       "\n",
       "   vol_3g_mb_7  vol_3g_mb_8  night_pck_user_6  night_pck_user_7  \\\n",
       "0       150.76       109.61               0.0               0.0   \n",
       "1         0.00         0.00               0.0               0.0   \n",
       "2       750.95        11.94               0.0               0.0   \n",
       "3         0.00         0.00               0.0               0.0   \n",
       "4       599.09      1009.92               0.0               0.0   \n",
       "\n",
       "   night_pck_user_8  monthly_2g_6  monthly_2g_7  monthly_2g_8  sachet_2g_6  \\\n",
       "0               0.0             0             0             0            0   \n",
       "1               0.0             0             0             0            0   \n",
       "2               0.0             0             1             0            0   \n",
       "3               0.0             0             0             0            0   \n",
       "4               0.0             0             0             0            0   \n",
       "\n",
       "   sachet_2g_7  sachet_2g_8  monthly_3g_6  monthly_3g_7  monthly_3g_8  \\\n",
       "0            0            0             1             1             1   \n",
       "1            0            0             0             0             0   \n",
       "2            1            3             0             0             0   \n",
       "3            0            0             0             0             0   \n",
       "4            0            0             0             2             1   \n",
       "\n",
       "   sachet_3g_6  sachet_3g_7  sachet_3g_8  fb_user_6  fb_user_7  fb_user_8  \\\n",
       "0            0            0            0        1.0        1.0        1.0   \n",
       "1            0            0            0        0.0        0.0        0.0   \n",
       "2            0            0            0        0.0        1.0        1.0   \n",
       "3            0            0            0        0.0        0.0        0.0   \n",
       "4            0            0            1        0.0        1.0        1.0   \n",
       "\n",
       "   aon  aug_vbc_3g  jul_vbc_3g  jun_vbc_3g  sep_vbc_3g  churn  \n",
       "0  968       30.40        0.00      101.20        3.58      1  \n",
       "1  802       57.74       19.38       18.74        0.00      1  \n",
       "2  315       21.03      910.65      122.16        0.00      0  \n",
       "3  720        0.00        0.00        0.00        0.00      0  \n",
       "4  604       40.45       51.86        0.00        0.00      0  "
      ]
     },
     "execution_count": 2,
     "metadata": {},
     "output_type": "execute_result"
    }
   ],
   "source": [
    "churn_filtered=pd.read_csv('cleaneddata.csv')\n",
    "churn_filtered.drop(['Unnamed: 0'], axis=1,inplace=True)\n",
    "churn_filtered.head()"
   ]
  },
  {
   "cell_type": "code",
   "execution_count": 3,
   "metadata": {},
   "outputs": [
    {
     "data": {
      "text/plain": [
       "0    27560\n",
       "1     2441\n",
       "Name: churn, dtype: int64"
      ]
     },
     "execution_count": 3,
     "metadata": {},
     "output_type": "execute_result"
    }
   ],
   "source": [
    "X=churn_filtered.drop('churn', axis =1)\n",
    "y=churn_filtered.churn\n",
    "y.value_counts()"
   ]
  },
  {
   "cell_type": "code",
   "execution_count": 4,
   "metadata": {},
   "outputs": [
    {
     "name": "stdout",
     "output_type": "stream",
     "text": [
      "X_train Shape :  (21000, 146)\n",
      "X_test Shape :  (9001, 146)\n"
     ]
    }
   ],
   "source": [
    "from sklearn.model_selection import train_test_split\n",
    "X_train,X_test,y_train,y_test = train_test_split(X,y,test_size = 0.3, random_state = 10)\n",
    "print(\"X_train Shape : \", X_train.shape)\n",
    "print(\"X_test Shape : \", X_test.shape)"
   ]
  },
  {
   "cell_type": "code",
   "execution_count": 5,
   "metadata": {},
   "outputs": [],
   "source": [
    "from sklearn.preprocessing import MinMaxScaler\n",
    "sc = MinMaxScaler()\n",
    "\n",
    "X_train = sc.fit_transform(X_train)\n",
    "X_test = sc.transform(X_test)"
   ]
  },
  {
   "cell_type": "code",
   "execution_count": 6,
   "metadata": {},
   "outputs": [
    {
     "data": {
      "text/plain": [
       "PCA(copy=True, iterated_power='auto', n_components=None, random_state=None,\n",
       "    svd_solver='auto', tol=0.0, whiten=False)"
      ]
     },
     "execution_count": 6,
     "metadata": {},
     "output_type": "execute_result"
    }
   ],
   "source": [
    "#Importing the PCA module\n",
    "from sklearn.decomposition import PCA\n",
    "pca = PCA()\n",
    "\n",
    "#Doing the PCA on the train data\n",
    "pca.fit(X_train)"
   ]
  },
  {
   "cell_type": "code",
   "execution_count": 7,
   "metadata": {},
   "outputs": [
    {
     "name": "stdout",
     "output_type": "stream",
     "text": [
      "0       55.19\n",
      "1       63.85\n",
      "2       70.36\n",
      "3       75.78\n",
      "4       78.58\n",
      "5       81.03\n",
      "6       83.15\n",
      "7       85.12\n",
      "8       86.68\n",
      "9       87.75\n",
      "10      88.62\n",
      "11      89.34\n",
      "12      90.05\n",
      "13      90.68\n",
      "14      91.25\n",
      "15      91.77\n",
      "16      92.23\n",
      "17      92.69\n",
      "18      93.08\n",
      "19      93.46\n",
      "20      93.83\n",
      "21      94.17\n",
      "22      94.50\n",
      "23      94.83\n",
      "24      95.11\n",
      "25      95.37\n",
      "26      95.62\n",
      "27      95.84\n",
      "28      96.04\n",
      "29      96.24\n",
      "30      96.43\n",
      "31      96.62\n",
      "32      96.80\n",
      "33      96.97\n",
      "34      97.14\n",
      "35      97.29\n",
      "36      97.44\n",
      "37      97.58\n",
      "38      97.71\n",
      "39      97.81\n",
      "40      97.91\n",
      "41      98.00\n",
      "42      98.09\n",
      "43      98.18\n",
      "44      98.26\n",
      "45      98.34\n",
      "46      98.41\n",
      "47      98.48\n",
      "48      98.54\n",
      "49      98.61\n",
      "50      98.67\n",
      "51      98.73\n",
      "52      98.78\n",
      "53      98.84\n",
      "54      98.89\n",
      "55      98.94\n",
      "56      98.99\n",
      "57      99.04\n",
      "58      99.09\n",
      "59      99.14\n",
      "60      99.18\n",
      "61      99.23\n",
      "62      99.27\n",
      "63      99.31\n",
      "64      99.34\n",
      "65      99.38\n",
      "66      99.41\n",
      "67      99.45\n",
      "68      99.48\n",
      "69      99.50\n",
      "70      99.53\n",
      "71      99.56\n",
      "72      99.58\n",
      "73      99.61\n",
      "74      99.63\n",
      "75      99.66\n",
      "76      99.68\n",
      "77      99.70\n",
      "78      99.72\n",
      "79      99.74\n",
      "80      99.76\n",
      "81      99.78\n",
      "82      99.80\n",
      "83      99.81\n",
      "84      99.83\n",
      "85      99.84\n",
      "86      99.86\n",
      "87      99.87\n",
      "88      99.88\n",
      "89      99.89\n",
      "90      99.90\n",
      "91      99.91\n",
      "92      99.92\n",
      "93      99.92\n",
      "94      99.93\n",
      "95      99.94\n",
      "96      99.94\n",
      "97      99.95\n",
      "98      99.96\n",
      "99      99.96\n",
      "100     99.97\n",
      "101     99.97\n",
      "102     99.98\n",
      "103     99.98\n",
      "104     99.99\n",
      "105     99.99\n",
      "106     99.99\n",
      "107     99.99\n",
      "108    100.00\n",
      "109    100.00\n",
      "110    100.00\n",
      "111    100.00\n",
      "112    100.00\n",
      "113    100.00\n",
      "114    100.00\n",
      "115    100.00\n",
      "116    100.00\n",
      "117    100.00\n",
      "118    100.00\n",
      "119    100.00\n",
      "120    100.00\n",
      "121    100.00\n",
      "122    100.00\n",
      "123    100.00\n",
      "124    100.00\n",
      "125    100.00\n",
      "126    100.00\n",
      "127    100.00\n",
      "128    100.00\n",
      "129    100.00\n",
      "130    100.00\n",
      "131    100.00\n",
      "132    100.00\n",
      "133    100.00\n",
      "134    100.00\n",
      "135    100.00\n",
      "136    100.00\n",
      "137    100.00\n",
      "138    100.00\n",
      "139    100.00\n",
      "140    100.00\n",
      "141    100.00\n",
      "142    100.00\n",
      "143    100.00\n",
      "144    100.00\n",
      "145    100.00\n",
      "dtype: float64\n"
     ]
    }
   ],
   "source": [
    "# look at explainded variance of PCA components\n",
    "print(pd.Series(np.round(pca.explained_variance_ratio_.cumsum(), 4)*100))"
   ]
  },
  {
   "cell_type": "code",
   "execution_count": 8,
   "metadata": {},
   "outputs": [
    {
     "data": {
      "text/plain": [
       "<Figure size 576x360 with 0 Axes>"
      ]
     },
     "execution_count": 8,
     "metadata": {},
     "output_type": "execute_result"
    },
    {
     "data": {
      "text/plain": [
       "[<matplotlib.lines.Line2D at 0x1af25b4c408>]"
      ]
     },
     "execution_count": 8,
     "metadata": {},
     "output_type": "execute_result"
    },
    {
     "data": {
      "image/png": "[encoded data removed]",
      "text/plain": [
       "<Figure size 576x360 with 1 Axes>"
      ]
     },
     "metadata": {
      "needs_background": "light"
     },
     "output_type": "display_data"
    }
   ],
   "source": [
    "# plot feature variance\n",
    "features = range(pca.n_components_)\n",
    "cumulative_variance = np.round(np.cumsum(pca.explained_variance_ratio_)*100, decimals=4)\n",
    "plt.figure(figsize=(160/20,100/20)) # 100 elements on y-axis; 160 elements on x-axis; 20 is normalising factor\n",
    "plt.plot(cumulative_variance)"
   ]
  },
  {
   "cell_type": "code",
   "execution_count": 9,
   "metadata": {},
   "outputs": [],
   "source": [
    "#Using incremental PCA for efficiency - saves a lot of time on larger datasets\n",
    "from sklearn.decomposition import PCA\n",
    "pca_final = PCA(n_components=60)"
   ]
  },
  {
   "cell_type": "code",
   "execution_count": 10,
   "metadata": {},
   "outputs": [
    {
     "data": {
      "text/plain": [
       "(21000, 60)"
      ]
     },
     "execution_count": 10,
     "metadata": {},
     "output_type": "execute_result"
    }
   ],
   "source": [
    "X_train = pca_final.fit_transform(X_train)\n",
    "X_train.shape"
   ]
  },
  {
   "cell_type": "code",
   "execution_count": 11,
   "metadata": {},
   "outputs": [
    {
     "data": {
      "text/plain": [
       "(9001, 60)"
      ]
     },
     "execution_count": 11,
     "metadata": {},
     "output_type": "execute_result"
    }
   ],
   "source": [
    "X_test = pca_final.transform(X_test)\n",
    "X_test.shape"
   ]
  },
  {
   "cell_type": "code",
   "execution_count": 12,
   "metadata": {},
   "outputs": [],
   "source": [
    "# Creating a function to plot ROC curve and finding AUC.\n",
    "def plot_roc_auc(model):\n",
    "    y_pred_proba = model.predict_proba(X_test)[:,1]\n",
    "    fpr, tpr, threshold = roc_curve(y_test, y_pred_proba)\n",
    "    roc_auc = auc(fpr, tpr)\n",
    "    plt.figure(figsize=[6.4, 4.8])\n",
    "    ##Adding the ROC\n",
    "    plt.plot(fpr, tpr, 'r', label = 'AUC = %0.2f' % roc_auc)\n",
    "    plt.plot([0, 1], [0, 1], color='blue', lw=2, linestyle='--')\n",
    "    ##Title and label\n",
    "    plt.legend(loc = 'lower right')\n",
    "    plt.xlabel('FPR')\n",
    "    plt.ylabel('TPR')\n",
    "    plt.title('ROC curve')\n",
    "    plt.show()\n",
    "    return roc_auc\n",
    "\n",
    "# Creating a function for Confusion Matrix\n",
    "def conf_matrix_plot(model):\n",
    "    plt.figure(figsize=(6,4))\n",
    "    ConfMatrix = confusion_matrix(y_test,model.predict(X_test))\n",
    "    akws = {\"ha\": 'left',\"va\": 'top'}\n",
    "    sns.heatmap(ConfMatrix,annot=True,annot_kws=akws, cmap=\"Blues\", fmt=\"d\", xticklabels = ['Non-default', 'Default'], yticklabels = ['Non-default', 'Default'])\n",
    "    plt.ylabel('Actual')\n",
    "    plt.xlabel('Predicted')\n",
    "    plt.title(\"Confusion Matrix\")"
   ]
  },
  {
   "cell_type": "code",
   "execution_count": 13,
   "metadata": {},
   "outputs": [],
   "source": [
    "# Balancing DataSet\n",
    "from imblearn.over_sampling import SMOTE\n",
    "\n",
    "sm = SMOTE()\n",
    "X_train_sm,y_train_sm = sm.fit_sample(X_train,y_train)"
   ]
  },
  {
   "cell_type": "markdown",
   "metadata": {},
   "source": [
    "## Logistic Regression"
   ]
  },
  {
   "cell_type": "code",
   "execution_count": 39,
   "metadata": {},
   "outputs": [
    {
     "data": {
      "text/plain": [
       "LogisticRegression(C=1.0, class_weight=None, dual=False, fit_intercept=True,\n",
       "                   intercept_scaling=1, l1_ratio=None, max_iter=100,\n",
       "                   multi_class='auto', n_jobs=None, penalty='l2',\n",
       "                   random_state=None, solver='lbfgs', tol=0.0001, verbose=0,\n",
       "                   warm_start=False)"
      ]
     },
     "execution_count": 39,
     "metadata": {},
     "output_type": "execute_result"
    },
    {
     "name": "stdout",
     "output_type": "stream",
     "text": [
      "\n"
     ]
    },
    {
     "data": {
      "image/png": "[encoded data removed]",
      "text/plain": [
       "<Figure size 432x288 with 2 Axes>"
      ]
     },
     "metadata": {
      "needs_background": "light"
     },
     "output_type": "display_data"
    },
    {
     "data": {
      "image/png": "[encoded data removed]",
      "text/plain": [
       "<Figure size 460.8x345.6 with 1 Axes>"
      ]
     },
     "metadata": {
      "needs_background": "light"
     },
     "output_type": "display_data"
    }
   ],
   "source": [
    "# Fitting Logistic Regression to the Training set\n",
    "from sklearn.linear_model import LogisticRegression\n",
    "from imblearn.metrics import sensitivity_specificity_support\n",
    "log_reg = LogisticRegression()\n",
    "log_reg.fit(X_train_sm, y_train_sm)\n",
    "\n",
    "# Predicting the Test set results\n",
    "y_pred_lr = log_reg.predict(X_test)\n",
    "y_pred_lrt = log_reg.predict(X_train_sm)\n",
    "\n",
    "\n",
    "conf_matrix_plot(log_reg)\n",
    "\n",
    "print()\n",
    "\n",
    "# Plotting ROC \n",
    "auc_lr = plot_roc_auc(log_reg)"
   ]
  },
  {
   "cell_type": "code",
   "execution_count": 86,
   "metadata": {},
   "outputs": [
    {
     "data": {
      "text/html": [
       "<div>\n",
       "<style scoped>\n",
       "    .dataframe tbody tr th:only-of-type {\n",
       "        vertical-align: middle;\n",
       "    }\n",
       "\n",
       "    .dataframe tbody tr th {\n",
       "        vertical-align: top;\n",
       "    }\n",
       "\n",
       "    .dataframe thead th {\n",
       "        text-align: right;\n",
       "    }\n",
       "</style>\n",
       "<table border=\"1\" class=\"dataframe\">\n",
       "  <thead>\n",
       "    <tr style=\"text-align: right;\">\n",
       "      <th></th>\n",
       "      <th>Churn</th>\n",
       "      <th>Churn_Prob</th>\n",
       "    </tr>\n",
       "  </thead>\n",
       "  <tbody>\n",
       "    <tr>\n",
       "      <td>23364</td>\n",
       "      <td>0</td>\n",
       "      <td>0.000347</td>\n",
       "    </tr>\n",
       "    <tr>\n",
       "      <td>1296</td>\n",
       "      <td>0</td>\n",
       "      <td>0.310210</td>\n",
       "    </tr>\n",
       "    <tr>\n",
       "      <td>3906</td>\n",
       "      <td>0</td>\n",
       "      <td>0.151678</td>\n",
       "    </tr>\n",
       "    <tr>\n",
       "      <td>17479</td>\n",
       "      <td>0</td>\n",
       "      <td>0.852315</td>\n",
       "    </tr>\n",
       "    <tr>\n",
       "      <td>11748</td>\n",
       "      <td>0</td>\n",
       "      <td>0.014719</td>\n",
       "    </tr>\n",
       "  </tbody>\n",
       "</table>\n",
       "</div>"
      ],
      "text/plain": [
       "       Churn  Churn_Prob\n",
       "23364      0    0.000347\n",
       "1296       0    0.310210\n",
       "3906       0    0.151678\n",
       "17479      0    0.852315\n",
       "11748      0    0.014719"
      ]
     },
     "execution_count": 86,
     "metadata": {},
     "output_type": "execute_result"
    }
   ],
   "source": [
    "y_train_pred_final = pd.DataFrame({'Churn':y_test, 'Churn_Prob':log_reg.predict_proba(X_test)[:,1]})\n",
    "y_train_pred_final.head()"
   ]
  },
  {
   "cell_type": "code",
   "execution_count": 80,
   "metadata": {},
   "outputs": [
    {
     "data": {
      "text/plain": [
       "array([0, 0, 0, ..., 1, 1, 1], dtype=int64)"
      ]
     },
     "execution_count": 80,
     "metadata": {},
     "output_type": "execute_result"
    }
   ],
   "source": [
    "y_pred_lrt"
   ]
  },
  {
   "cell_type": "code",
   "execution_count": null,
   "metadata": {},
   "outputs": [],
   "source": [
    "y_train_pred_final1 = pd.DataFrame({'Churn':y_train_sm, 'Churn_Prob':log_reg.predict(X_train_sm)[:,0]})\n",
    "y_train_pred_final1.head()"
   ]
  },
  {
   "cell_type": "code",
   "execution_count": 87,
   "metadata": {},
   "outputs": [
    {
     "data": {
      "text/html": [
       "<div>\n",
       "<style scoped>\n",
       "    .dataframe tbody tr th:only-of-type {\n",
       "        vertical-align: middle;\n",
       "    }\n",
       "\n",
       "    .dataframe tbody tr th {\n",
       "        vertical-align: top;\n",
       "    }\n",
       "\n",
       "    .dataframe thead th {\n",
       "        text-align: right;\n",
       "    }\n",
       "</style>\n",
       "<table border=\"1\" class=\"dataframe\">\n",
       "  <thead>\n",
       "    <tr style=\"text-align: right;\">\n",
       "      <th></th>\n",
       "      <th>Churn</th>\n",
       "      <th>Churn_Prob</th>\n",
       "      <th>0.0</th>\n",
       "      <th>0.1</th>\n",
       "      <th>0.2</th>\n",
       "      <th>0.3</th>\n",
       "      <th>0.4</th>\n",
       "      <th>0.5</th>\n",
       "      <th>0.6</th>\n",
       "      <th>0.7</th>\n",
       "      <th>0.8</th>\n",
       "      <th>0.9</th>\n",
       "    </tr>\n",
       "  </thead>\n",
       "  <tbody>\n",
       "    <tr>\n",
       "      <td>23364</td>\n",
       "      <td>0</td>\n",
       "      <td>0.000347</td>\n",
       "      <td>1</td>\n",
       "      <td>0</td>\n",
       "      <td>0</td>\n",
       "      <td>0</td>\n",
       "      <td>0</td>\n",
       "      <td>0</td>\n",
       "      <td>0</td>\n",
       "      <td>0</td>\n",
       "      <td>0</td>\n",
       "      <td>0</td>\n",
       "    </tr>\n",
       "    <tr>\n",
       "      <td>1296</td>\n",
       "      <td>0</td>\n",
       "      <td>0.310210</td>\n",
       "      <td>1</td>\n",
       "      <td>1</td>\n",
       "      <td>1</td>\n",
       "      <td>1</td>\n",
       "      <td>0</td>\n",
       "      <td>0</td>\n",
       "      <td>0</td>\n",
       "      <td>0</td>\n",
       "      <td>0</td>\n",
       "      <td>0</td>\n",
       "    </tr>\n",
       "    <tr>\n",
       "      <td>3906</td>\n",
       "      <td>0</td>\n",
       "      <td>0.151678</td>\n",
       "      <td>1</td>\n",
       "      <td>1</td>\n",
       "      <td>0</td>\n",
       "      <td>0</td>\n",
       "      <td>0</td>\n",
       "      <td>0</td>\n",
       "      <td>0</td>\n",
       "      <td>0</td>\n",
       "      <td>0</td>\n",
       "      <td>0</td>\n",
       "    </tr>\n",
       "    <tr>\n",
       "      <td>17479</td>\n",
       "      <td>0</td>\n",
       "      <td>0.852315</td>\n",
       "      <td>1</td>\n",
       "      <td>1</td>\n",
       "      <td>1</td>\n",
       "      <td>1</td>\n",
       "      <td>1</td>\n",
       "      <td>1</td>\n",
       "      <td>1</td>\n",
       "      <td>1</td>\n",
       "      <td>1</td>\n",
       "      <td>0</td>\n",
       "    </tr>\n",
       "    <tr>\n",
       "      <td>11748</td>\n",
       "      <td>0</td>\n",
       "      <td>0.014719</td>\n",
       "      <td>1</td>\n",
       "      <td>0</td>\n",
       "      <td>0</td>\n",
       "      <td>0</td>\n",
       "      <td>0</td>\n",
       "      <td>0</td>\n",
       "      <td>0</td>\n",
       "      <td>0</td>\n",
       "      <td>0</td>\n",
       "      <td>0</td>\n",
       "    </tr>\n",
       "  </tbody>\n",
       "</table>\n",
       "</div>"
      ],
      "text/plain": [
       "       Churn  Churn_Prob  0.0  0.1  0.2  0.3  0.4  0.5  0.6  0.7  0.8  0.9\n",
       "23364      0    0.000347    1    0    0    0    0    0    0    0    0    0\n",
       "1296       0    0.310210    1    1    1    1    0    0    0    0    0    0\n",
       "3906       0    0.151678    1    1    0    0    0    0    0    0    0    0\n",
       "17479      0    0.852315    1    1    1    1    1    1    1    1    1    0\n",
       "11748      0    0.014719    1    0    0    0    0    0    0    0    0    0"
      ]
     },
     "execution_count": 87,
     "metadata": {},
     "output_type": "execute_result"
    }
   ],
   "source": [
    "# Let's create columns with different probability cutoffs \n",
    "numbers = [float(x)/10 for x in range(10)]\n",
    "for i in numbers:\n",
    "    y_train_pred_final[i]= y_train_pred_final.Churn_Prob.map(lambda x: 1 if x > i else 0)\n",
    "y_train_pred_final.head()"
   ]
  },
  {
   "cell_type": "code",
   "execution_count": 88,
   "metadata": {},
   "outputs": [
    {
     "name": "stdout",
     "output_type": "stream",
     "text": [
      "     prob  accuracy     speci     sensi     preci\n",
      "0.0   0.0  0.075547  0.000000  1.000000  0.075547\n",
      "0.1   0.1  0.445950  0.403557  0.964706  0.116747\n",
      "0.2   0.2  0.589157  0.560510  0.939706  0.148743\n",
      "0.3   0.3  0.686368  0.669511  0.892647  0.180816\n",
      "0.4   0.4  0.761693  0.753155  0.866176  0.222853\n",
      "0.5   0.5  0.821353  0.820695  0.829412  0.274319\n",
      "0.6   0.6  0.872570  0.880062  0.780882  0.347286\n",
      "0.7   0.7  0.904011  0.921524  0.689706  0.418004\n",
      "0.8   0.8  0.925675  0.952530  0.597059  0.506866\n",
      "0.9   0.9  0.931896  0.986660  0.261765  0.615917\n"
     ]
    }
   ],
   "source": [
    "# Now let's calculate accuracy sensitivity and specificity for various probability cutoffs.\n",
    "cutoff_df = pd.DataFrame( columns = ['prob','accuracy','speci','sensi','preci'])\n",
    "from sklearn.metrics import confusion_matrix\n",
    "\n",
    "num = [0.0,0.1,0.2,0.3,0.4,0.5,0.6,0.7,0.8,0.9]\n",
    "for i in num:\n",
    "    cm1 = metrics.confusion_matrix(y_train_pred_final.Churn, y_train_pred_final[i] )\n",
    "    total1=sum(sum(cm1))\n",
    "    accuracy = (cm1[0,0]+cm1[1,1])/total1\n",
    "    \n",
    "    speci = cm1[0,0]/(cm1[0,0]+cm1[0,1])\n",
    "    sensi = cm1[1,1]/(cm1[1,0]+cm1[1,1])\n",
    "    preci = cm1[1,1]/(cm1[0,1]+cm1[1,1])\n",
    "    cutoff_df.loc[i] =[ i ,accuracy,speci,sensi,preci]\n",
    "print(cutoff_df)"
   ]
  },
  {
   "cell_type": "code",
   "execution_count": 143,
   "metadata": {},
   "outputs": [
    {
     "data": {
      "text/plain": [
       "<matplotlib.axes._subplots.AxesSubplot at 0x1af2d7143c8>"
      ]
     },
     "execution_count": 143,
     "metadata": {},
     "output_type": "execute_result"
    },
    {
     "data": {
      "image/png": "[encoded data removed]",
      "text/plain": [
       "<Figure size 432x288 with 1 Axes>"
      ]
     },
     "metadata": {
      "needs_background": "light"
     },
     "output_type": "display_data"
    }
   ],
   "source": [
    "# Let's plot accuracy sensitivity and specificity for various probabilities.\n",
    "cutoff_df.plot.line(x='prob', y=['accuracy','speci','sensi','preci'])"
   ]
  },
  {
   "cell_type": "code",
   "execution_count": 16,
   "metadata": {},
   "outputs": [
    {
     "name": "stdout",
     "output_type": "stream",
     "text": [
      "Accuracy   :\t 0.8261\n",
      "Sensitivity: \t 0.8279\n",
      "Specificity: \t 0.826\n",
      "AUC        :\t 0.8936\n"
     ]
    }
   ],
   "source": [
    "# check sensitivity and specificity\n",
    "print('Accuracy   :\\t',round(log_reg.score(X_test,y_test),4))\n",
    "sensitivity_lr, specificity_lr, _ = sensitivity_specificity_support(y_test, y_pred_lr, average='binary')\n",
    "print(\"Sensitivity: \\t\", round(sensitivity_lr, 4))\n",
    "print(\"Specificity: \\t\", round(specificity_lr, 4))\n",
    "print('AUC        :\\t',round(auc_lr,4))"
   ]
  },
  {
   "cell_type": "code",
   "execution_count": 27,
   "metadata": {},
   "outputs": [
    {
     "name": "stdout",
     "output_type": "stream",
     "text": [
      "Accuracy   : \t 0.8403\n"
     ]
    }
   ],
   "source": [
    "\n",
    "# check sensitivity and specificity\n",
    "print('Accuracy   : \\t',round(log_reg.score(X_train_sm, y_train_sm),4))\n",
    "#sensitivity_rftr, specificity_rftr, _ = sensitivity_specificity_support(y_test, y_pred_rftr, average='binary')\n",
    "#print(\"Sensitivity: \\t\", round(sensitivity_rftr, 2))\n",
    "#print(\"Specificity: \\t\", round(specificity_rftr, 2))\n",
    "#print('AUC        : \\t',round(auc_rf,2))"
   ]
  },
  {
   "cell_type": "markdown",
   "metadata": {},
   "source": [
    "## Random Forest"
   ]
  },
  {
   "cell_type": "code",
   "execution_count": 17,
   "metadata": {},
   "outputs": [
    {
     "data": {
      "text/plain": [
       "RandomForestClassifier(bootstrap=True, ccp_alpha=0.0, class_weight=None,\n",
       "                       criterion='gini', max_depth=4, max_features=10,\n",
       "                       max_leaf_nodes=None, max_samples=None,\n",
       "                       min_impurity_decrease=0.0, min_impurity_split=None,\n",
       "                       min_samples_leaf=1, min_samples_split=2,\n",
       "                       min_weight_fraction_leaf=0.0, n_estimators=500,\n",
       "                       n_jobs=None, oob_score=False, random_state=None,\n",
       "                       verbose=0, warm_start=False)"
      ]
     },
     "execution_count": 17,
     "metadata": {},
     "output_type": "execute_result"
    },
    {
     "name": "stdout",
     "output_type": "stream",
     "text": [
      "\n"
     ]
    },
    {
     "data": {
      "image/png": "[encoded data removed]",
      "text/plain": [
       "<Figure size 432x288 with 2 Axes>"
      ]
     },
     "metadata": {
      "needs_background": "light"
     },
     "output_type": "display_data"
    },
    {
     "data": {
      "image/png": "[encoded data removed]",
      "text/plain": [
       "<Figure size 460.8x345.6 with 1 Axes>"
      ]
     },
     "metadata": {
      "needs_background": "light"
     },
     "output_type": "display_data"
    }
   ],
   "source": [
    "# Fitting Random Forest Classification to the Training set\n",
    "from sklearn.ensemble import RandomForestClassifier\n",
    "rf_model = RandomForestClassifier(n_estimators=500, max_depth=4, max_features=10)\n",
    "rf_model.fit(X_train_sm, y_train_sm)\n",
    "\n",
    "# Predicting the Test set results\n",
    "y_pred_rf = rf_model.predict(X_test)\n",
    "\n",
    "#Confusion Matrix\n",
    "conf_matrix_plot(rf_model)\n",
    "\n",
    "print()\n",
    "\n",
    "# Plotting ROC \n",
    "auc_rf = plot_roc_auc(rf_model)"
   ]
  },
  {
   "cell_type": "code",
   "execution_count": 18,
   "metadata": {},
   "outputs": [
    {
     "name": "stdout",
     "output_type": "stream",
     "text": [
      "Accuracy   : \t 0.8024\n",
      "Sensitivity: \t 0.75\n",
      "Specificity: \t 0.81\n",
      "AUC        : \t 0.86\n"
     ]
    }
   ],
   "source": [
    "# check sensitivity and specificity\n",
    "print('Accuracy   : \\t',round(rf_model.score(X_test, y_test),4))\n",
    "sensitivity_rf, specificity_rf, _ = sensitivity_specificity_support(y_test, y_pred_rf, average='binary')\n",
    "print(\"Sensitivity: \\t\", round(sensitivity_rf, 2))\n",
    "print(\"Specificity: \\t\", round(specificity_rf, 2))\n",
    "print('AUC        : \\t',round(auc_rf,2))"
   ]
  },
  {
   "cell_type": "code",
   "execution_count": 19,
   "metadata": {},
   "outputs": [
    {
     "name": "stdout",
     "output_type": "stream",
     "text": [
      "Accuracy   : \t 0.8209\n"
     ]
    }
   ],
   "source": [
    "y_pred_rftr = rf_model.predict(X_train_sm)\n",
    "# check sensitivity and specificity\n",
    "print('Accuracy   : \\t',round(rf_model.score(X_train_sm, y_train_sm),4))\n",
    "#sensitivity_rftr, specificity_rftr, _ = sensitivity_specificity_support(y_test, y_pred_rftr, average='binary')\n",
    "#print(\"Sensitivity: \\t\", round(sensitivity_rftr, 2))\n",
    "#print(\"Specificity: \\t\", round(specificity_rftr, 2))\n",
    "#print('AUC        : \\t',round(auc_rf,2))"
   ]
  },
  {
   "cell_type": "code",
   "execution_count": null,
   "metadata": {},
   "outputs": [],
   "source": []
  },
  {
   "cell_type": "code",
   "execution_count": 24,
   "metadata": {},
   "outputs": [
    {
     "name": "stdout",
     "output_type": "stream",
     "text": [
      "Fitting 3 folds for each of 576 candidates, totalling 1728 fits\n"
     ]
    },
    {
     "name": "stderr",
     "output_type": "stream",
     "text": [
      "[Parallel(n_jobs=-1)]: Using backend LokyBackend with 12 concurrent workers.\n",
      "[Parallel(n_jobs=-1)]: Done   1 tasks      | elapsed:   25.6s\n",
      "[Parallel(n_jobs=-1)]: Done   8 tasks      | elapsed:  1.0min\n",
      "[Parallel(n_jobs=-1)]: Done  17 tasks      | elapsed:  1.6min\n",
      "[Parallel(n_jobs=-1)]: Done  26 tasks      | elapsed:  2.4min\n",
      "[Parallel(n_jobs=-1)]: Done  37 tasks      | elapsed:  3.0min\n",
      "[Parallel(n_jobs=-1)]: Done  48 tasks      | elapsed:  3.7min\n",
      "[Parallel(n_jobs=-1)]: Done  61 tasks      | elapsed:  5.0min\n",
      "[Parallel(n_jobs=-1)]: Done  74 tasks      | elapsed:  5.7min\n",
      "[Parallel(n_jobs=-1)]: Done  89 tasks      | elapsed:  7.3min\n",
      "[Parallel(n_jobs=-1)]: Done 104 tasks      | elapsed:  8.6min\n",
      "[Parallel(n_jobs=-1)]: Done 121 tasks      | elapsed: 10.3min\n",
      "[Parallel(n_jobs=-1)]: Done 138 tasks      | elapsed: 12.4min\n",
      "[Parallel(n_jobs=-1)]: Done 157 tasks      | elapsed: 14.4min\n",
      "[Parallel(n_jobs=-1)]: Done 176 tasks      | elapsed: 16.5min\n",
      "[Parallel(n_jobs=-1)]: Done 197 tasks      | elapsed: 19.2min\n",
      "[Parallel(n_jobs=-1)]: Done 218 tasks      | elapsed: 21.7min\n",
      "[Parallel(n_jobs=-1)]: Done 241 tasks      | elapsed: 24.1min\n",
      "[Parallel(n_jobs=-1)]: Done 264 tasks      | elapsed: 26.1min\n",
      "[Parallel(n_jobs=-1)]: Done 289 tasks      | elapsed: 28.6min\n",
      "[Parallel(n_jobs=-1)]: Done 314 tasks      | elapsed: 31.6min\n",
      "[Parallel(n_jobs=-1)]: Done 341 tasks      | elapsed: 35.0min\n",
      "[Parallel(n_jobs=-1)]: Done 368 tasks      | elapsed: 39.4min\n",
      "[Parallel(n_jobs=-1)]: Done 397 tasks      | elapsed: 43.2min\n",
      "[Parallel(n_jobs=-1)]: Done 426 tasks      | elapsed: 48.4min\n",
      "[Parallel(n_jobs=-1)]: Done 457 tasks      | elapsed: 52.8min\n",
      "[Parallel(n_jobs=-1)]: Done 488 tasks      | elapsed: 56.2min\n",
      "[Parallel(n_jobs=-1)]: Done 521 tasks      | elapsed: 61.6min\n",
      "[Parallel(n_jobs=-1)]: Done 554 tasks      | elapsed: 67.3min\n",
      "[Parallel(n_jobs=-1)]: Done 589 tasks      | elapsed: 74.4min\n",
      "[Parallel(n_jobs=-1)]: Done 624 tasks      | elapsed: 82.5min\n",
      "[Parallel(n_jobs=-1)]: Done 661 tasks      | elapsed: 90.1min\n",
      "[Parallel(n_jobs=-1)]: Done 698 tasks      | elapsed: 95.4min\n",
      "[Parallel(n_jobs=-1)]: Done 737 tasks      | elapsed: 103.1min\n",
      "[Parallel(n_jobs=-1)]: Done 776 tasks      | elapsed: 111.0min\n",
      "[Parallel(n_jobs=-1)]: Done 817 tasks      | elapsed: 122.9min\n",
      "[Parallel(n_jobs=-1)]: Done 858 tasks      | elapsed: 133.8min\n",
      "[Parallel(n_jobs=-1)]: Done 901 tasks      | elapsed: 192.4min\n",
      "[Parallel(n_jobs=-1)]: Done 944 tasks      | elapsed: 198.5min\n",
      "[Parallel(n_jobs=-1)]: Done 989 tasks      | elapsed: 205.4min\n",
      "[Parallel(n_jobs=-1)]: Done 1034 tasks      | elapsed: 215.3min\n",
      "[Parallel(n_jobs=-1)]: Done 1081 tasks      | elapsed: 224.0min\n",
      "[Parallel(n_jobs=-1)]: Done 1128 tasks      | elapsed: 231.2min\n",
      "[Parallel(n_jobs=-1)]: Done 1177 tasks      | elapsed: 240.3min\n",
      "[Parallel(n_jobs=-1)]: Done 1226 tasks      | elapsed: 250.1min\n",
      "[Parallel(n_jobs=-1)]: Done 1277 tasks      | elapsed: 263.5min\n",
      "[Parallel(n_jobs=-1)]: Done 1328 tasks      | elapsed: 274.8min\n",
      "[Parallel(n_jobs=-1)]: Done 1381 tasks      | elapsed: 288.1min\n",
      "[Parallel(n_jobs=-1)]: Done 1434 tasks      | elapsed: 304.5min\n",
      "[Parallel(n_jobs=-1)]: Done 1489 tasks      | elapsed: 324.3min\n",
      "[Parallel(n_jobs=-1)]: Done 1544 tasks      | elapsed: 349.7min\n",
      "[Parallel(n_jobs=-1)]: Done 1601 tasks      | elapsed: 378.3min\n",
      "[Parallel(n_jobs=-1)]: Done 1658 tasks      | elapsed: 399.5min\n",
      "[Parallel(n_jobs=-1)]: Done 1728 out of 1728 | elapsed: 435.8min finished\n"
     ]
    },
    {
     "data": {
      "text/plain": [
       "GridSearchCV(cv=3, error_score=nan,\n",
       "             estimator=RandomForestClassifier(bootstrap=True, ccp_alpha=0.0,\n",
       "                                              class_weight=None,\n",
       "                                              criterion='gini', max_depth=None,\n",
       "                                              max_features='auto',\n",
       "                                              max_leaf_nodes=None,\n",
       "                                              max_samples=None,\n",
       "                                              min_impurity_decrease=0.0,\n",
       "                                              min_impurity_split=None,\n",
       "                                              min_samples_leaf=1,\n",
       "                                              min_samples_split=2,\n",
       "                                              min_weight_fraction_leaf=0.0,\n",
       "                                              n_estimators=100, n_jobs=None,\n",
       "                                              oob_score=False,\n",
       "                                              random_state=None, verbose=0,\n",
       "                                              warm_start=False),\n",
       "             iid='deprecated', n_jobs=-1,\n",
       "             param_grid={'criterion': ['gini', 'entropy'],\n",
       "                         'max_depth': [3, 4, 6, 8],\n",
       "                         'max_features': [6, 8, 10, 12],\n",
       "                         'min_samples_leaf': [1, 2, 4],\n",
       "                         'n_estimators': [100, 200, 400, 500, 700, 1000]},\n",
       "             pre_dispatch='2*n_jobs', refit=True, return_train_score=False,\n",
       "             scoring='recall', verbose=10)"
      ]
     },
     "execution_count": 24,
     "metadata": {},
     "output_type": "execute_result"
    },
    {
     "data": {
      "text/plain": [
       "{'criterion': 'gini',\n",
       " 'max_depth': 8,\n",
       " 'max_features': 12,\n",
       " 'min_samples_leaf': 2,\n",
       " 'n_estimators': 100}"
      ]
     },
     "execution_count": 24,
     "metadata": {},
     "output_type": "execute_result"
    }
   ],
   "source": [
    "from sklearn.model_selection import GridSearchCV\n",
    "parameters = {'max_depth':[3,4,6,8],\n",
    "              'n_estimators':[100,200,400,500,700,1000],\n",
    "              'max_features':[6,8,10,12],\n",
    "               'criterion':['gini','entropy'],\n",
    "               'min_samples_leaf':[1,2,4]\n",
    "              }\n",
    "rf_model_rs=RandomForestClassifier()\n",
    "\n",
    "grid_search_rf = GridSearchCV(estimator = rf_model_rs,param_grid = parameters,scoring = 'recall',cv = 3,n_jobs = -1,verbose=10)\n",
    "grid_search_rf.fit(X_train_sm, y_train_sm)\n",
    "gs_accuracy = grid_search_rf.best_score_\n",
    "best_param=grid_search_rf.best_params_\n",
    "\n",
    "best_param"
   ]
  },
  {
   "cell_type": "code",
   "execution_count": 27,
   "metadata": {},
   "outputs": [
    {
     "data": {
      "text/plain": [
       "RandomForestClassifier(bootstrap=True, ccp_alpha=0.0, class_weight=None,\n",
       "                       criterion='gini', max_depth=8, max_features=12,\n",
       "                       max_leaf_nodes=None, max_samples=None,\n",
       "                       min_impurity_decrease=0.0, min_impurity_split=None,\n",
       "                       min_samples_leaf=2, min_samples_split=2,\n",
       "                       min_weight_fraction_leaf=0.0, n_estimators=100,\n",
       "                       n_jobs=None, oob_score=False, random_state=None,\n",
       "                       verbose=0, warm_start=False)"
      ]
     },
     "execution_count": 27,
     "metadata": {},
     "output_type": "execute_result"
    },
    {
     "name": "stdout",
     "output_type": "stream",
     "text": [
      "Confusion Matrix : \n",
      "[[7272 1049]\n",
      " [ 174  506]]\n",
      "\n",
      "0.864126208199089\n",
      "              precision    recall  f1-score   support\n",
      "\n",
      "           0       0.98      0.87      0.92      8321\n",
      "           1       0.33      0.74      0.45       680\n",
      "\n",
      "    accuracy                           0.86      9001\n",
      "   macro avg       0.65      0.81      0.69      9001\n",
      "weighted avg       0.93      0.86      0.89      9001\n",
      "\n"
     ]
    }
   ],
   "source": [
    "rf_gridsearch=RandomForestClassifier(criterion = best_param['criterion'], n_estimators=best_param['n_estimators'],max_depth=best_param['max_depth'],max_features=best_param['max_features'],min_samples_leaf=best_param['min_samples_leaf'])\n",
    "rf_gridsearch.fit(X_train_sm, y_train_sm)\n",
    "\n",
    "# Predicting the Test set results\n",
    "y_pred_rfgs = rf_gridsearch.predict(X_test)\n",
    "\n",
    "# Making the Confusion Matrix\n",
    "from sklearn.metrics import confusion_matrix\n",
    "cm = confusion_matrix(y_test, y_pred_rfgs)\n",
    "print('Confusion Matrix : ')\n",
    "print(cm)\n",
    "\n",
    "print()\n",
    "\n",
    "print(rf_gridsearch.score(X_test, y_test))\n",
    "print(classification_report(y_test, y_pred_rfgs))"
   ]
  },
  {
   "cell_type": "code",
   "execution_count": 28,
   "metadata": {},
   "outputs": [
    {
     "name": "stdout",
     "output_type": "stream",
     "text": [
      "Accuracy   : \t 0.8641\n",
      "Sensitivity: \t 0.74\n",
      "Specificity: \t 0.87\n"
     ]
    },
    {
     "data": {
      "image/png": "[encoded data removed]",
      "text/plain": [
       "<Figure size 460.8x345.6 with 1 Axes>"
      ]
     },
     "metadata": {
      "needs_background": "light"
     },
     "output_type": "display_data"
    },
    {
     "name": "stdout",
     "output_type": "stream",
     "text": [
      "AUC        : \t 0.88\n"
     ]
    }
   ],
   "source": [
    "# check sensitivity and specificity\n",
    "print('Accuracy   : \\t',round(rf_gridsearch.score(X_test, y_test),4))\n",
    "sensitivity_rfgs, specificity_rfgs, _ = sensitivity_specificity_support(y_test, y_pred_rfgs, average='binary')\n",
    "print(\"Sensitivity: \\t\", round(sensitivity_rfgs, 2))\n",
    "print(\"Specificity: \\t\", round(specificity_rfgs, 2))\n",
    "auc_rfgs = plot_roc_auc(rf_gridsearch)\n",
    "print('AUC        : \\t',round(auc_rfgs,2))"
   ]
  },
  {
   "cell_type": "code",
   "execution_count": 90,
   "metadata": {},
   "outputs": [
    {
     "name": "stdout",
     "output_type": "stream",
     "text": [
      "Accuracy   : \t 0.8941\n"
     ]
    }
   ],
   "source": [
    "# check sensitivity and specificity\n",
    "y_pred_rfgstr = rf_gridsearch.predict(X_train_sm)\n",
    "print('Accuracy   : \\t',round(rf_gridsearch.score(X_train_sm, y_train_sm),4))\n",
    "#sensitivity_rfgs, specificity_rfgs, _ = sensitivity_specificity_support(y_test, y_pred_rfgs, average='binary')\n",
    "#print(\"Sensitivity: \\t\", round(sensitivity_rfgs, 2))\n",
    "#print(\"Specificity: \\t\", round(specificity_rfgs, 2))\n",
    "#auc_rfgs = plot_roc_auc(rf_gridsearch)\n",
    "#print('AUC        : \\t',round(auc_rfgs,2))"
   ]
  },
  {
   "cell_type": "code",
   "execution_count": null,
   "metadata": {},
   "outputs": [],
   "source": []
  },
  {
   "cell_type": "markdown",
   "metadata": {},
   "source": [
    "## XGBoost"
   ]
  },
  {
   "cell_type": "code",
   "execution_count": 137,
   "metadata": {},
   "outputs": [
    {
     "data": {
      "text/plain": [
       "XGBClassifier(base_score=0.5, booster=None, colsample_bylevel=1,\n",
       "              colsample_bynode=1, colsample_bytree=1, gamma=0, gpu_id=-1,\n",
       "              importance_type='gain', interaction_constraints=None,\n",
       "              learning_rate=0.300000012, max_delta_step=0, max_depth=3,\n",
       "              max_features=10, min_child_weight=1, missing=nan,\n",
       "              monotone_constraints=None, n_estimators=30, n_jobs=0,\n",
       "              num_parallel_tree=1, objective='binary:logistic', random_state=0,\n",
       "              reg_alpha=0, reg_lambda=1, scale_pos_weight=1, subsample=1,\n",
       "              tree_method=None, validate_parameters=False, verbosity=None)"
      ]
     },
     "execution_count": 137,
     "metadata": {},
     "output_type": "execute_result"
    },
    {
     "name": "stdout",
     "output_type": "stream",
     "text": [
      "Confusion Matrix : \n",
      "\n"
     ]
    },
    {
     "data": {
      "image/png": "[encoded data removed]",
      "text/plain": [
       "<Figure size 432x288 with 2 Axes>"
      ]
     },
     "metadata": {
      "needs_background": "light"
     },
     "output_type": "display_data"
    },
    {
     "data": {
      "image/png": "[encoded data removed]",
      "text/plain": [
       "<Figure size 460.8x345.6 with 1 Axes>"
      ]
     },
     "metadata": {
      "needs_background": "light"
     },
     "output_type": "display_data"
    }
   ],
   "source": [
    "from xgboost import XGBClassifier\n",
    "xgb = XGBClassifier(max_depth=3, n_estimators=30, max_features=10)\n",
    "xgb.fit(X_train_sm, y_train_sm)\n",
    "y_pred_xgb = xgb.predict(X_test)\n",
    "\n",
    "# Making the Confusion Matrix\n",
    "print('Confusion Matrix : ')\n",
    "#Confusion Matrix\n",
    "conf_matrix_plot(xgb)\n",
    "\n",
    "print()\n",
    "\n",
    "# Plotting ROC curve. \n",
    "auc_xgb = plot_roc_auc(xgb)"
   ]
  },
  {
   "cell_type": "code",
   "execution_count": 138,
   "metadata": {},
   "outputs": [
    {
     "name": "stdout",
     "output_type": "stream",
     "text": [
      "0.8436840351072104\n",
      "Accuracy   : \t 0.8437\n",
      "Sensitivity: \t 0.7706\n",
      "Specificity: \t 0.8497\n",
      "AUC        : \t 0.8813\n"
     ]
    }
   ],
   "source": [
    "print(xgb.score(X_test, y_test))\n",
    "# check sensitivity and specificity\n",
    "print('Accuracy   : \\t',round(xgb.score(X_test, y_test),4))\n",
    "sensitivity_xgb, specificity_xgb, _ = sensitivity_specificity_support(y_test, y_pred_xgb, average='binary')\n",
    "print(\"Sensitivity: \\t\", round(sensitivity_xgb, 4))\n",
    "print(\"Specificity: \\t\", round(specificity_xgb, 4))\n",
    "print('AUC        : \\t',round(auc_xgb,4))"
   ]
  },
  {
   "cell_type": "code",
   "execution_count": 139,
   "metadata": {},
   "outputs": [
    {
     "name": "stdout",
     "output_type": "stream",
     "text": [
      "Accuracy   : \t 0.8608\n"
     ]
    }
   ],
   "source": [
    "y_pred_xgbtr = xgb.predict(X_train_sm)\n",
    "# check sensitivity and specificity\n",
    "print('Accuracy   : \\t',round(xgb.score(X_train_sm, y_train_sm),4))\n",
    "#sensitivity_rftr, specificity_rftr, _ = sensitivity_specificity_support(y_test, y_pred_rftr, average='binary')\n",
    "#print(\"Sensitivity: \\t\", round(sensitivity_rftr, 2))\n",
    "#print(\"Specificity: \\t\", round(specificity_rftr, 2))\n",
    "#print('AUC        : \\t',round(auc_rf,2))"
   ]
  },
  {
   "cell_type": "markdown",
   "metadata": {},
   "source": [
    "## Logistic Regression - Hyperparameter Tuning"
   ]
  },
  {
   "cell_type": "code",
   "execution_count": 89,
   "metadata": {},
   "outputs": [
    {
     "name": "stdout",
     "output_type": "stream",
     "text": [
      "Fitting 3 folds for each of 320 candidates, totalling 960 fits\n"
     ]
    },
    {
     "name": "stderr",
     "output_type": "stream",
     "text": [
      "[Parallel(n_jobs=-1)]: Using backend LokyBackend with 12 concurrent workers.\n",
      "[Parallel(n_jobs=-1)]: Done   1 tasks      | elapsed:    7.9s\n",
      "[Parallel(n_jobs=-1)]: Done   8 tasks      | elapsed:    8.4s\n",
      "[Parallel(n_jobs=-1)]: Done  17 tasks      | elapsed:    9.5s\n",
      "[Parallel(n_jobs=-1)]: Done  26 tasks      | elapsed:   11.7s\n",
      "[Parallel(n_jobs=-1)]: Done  37 tasks      | elapsed:   13.4s\n",
      "[Parallel(n_jobs=-1)]: Done  48 tasks      | elapsed:   15.4s\n",
      "[Parallel(n_jobs=-1)]: Done  61 tasks      | elapsed:   17.6s\n",
      "[Parallel(n_jobs=-1)]: Done  74 tasks      | elapsed:   19.9s\n",
      "[Parallel(n_jobs=-1)]: Done  89 tasks      | elapsed:   22.5s\n",
      "[Parallel(n_jobs=-1)]: Done 104 tasks      | elapsed:   25.7s\n",
      "[Parallel(n_jobs=-1)]: Done 121 tasks      | elapsed:   28.4s\n",
      "[Parallel(n_jobs=-1)]: Done 138 tasks      | elapsed:   30.7s\n",
      "[Parallel(n_jobs=-1)]: Done 157 tasks      | elapsed:   35.5s\n",
      "[Parallel(n_jobs=-1)]: Done 176 tasks      | elapsed:   40.2s\n",
      "[Parallel(n_jobs=-1)]: Done 197 tasks      | elapsed:   44.0s\n",
      "[Parallel(n_jobs=-1)]: Done 218 tasks      | elapsed:   48.7s\n",
      "[Parallel(n_jobs=-1)]: Done 241 tasks      | elapsed:   53.9s\n",
      "[Parallel(n_jobs=-1)]: Done 264 tasks      | elapsed:   58.6s\n",
      "[Parallel(n_jobs=-1)]: Done 289 tasks      | elapsed:  1.1min\n",
      "[Parallel(n_jobs=-1)]: Done 314 tasks      | elapsed:  1.2min\n",
      "[Parallel(n_jobs=-1)]: Done 341 tasks      | elapsed:  1.3min\n",
      "[Parallel(n_jobs=-1)]: Done 368 tasks      | elapsed:  1.4min\n",
      "[Parallel(n_jobs=-1)]: Done 397 tasks      | elapsed:  1.5min\n",
      "[Parallel(n_jobs=-1)]: Done 426 tasks      | elapsed:  1.7min\n",
      "[Parallel(n_jobs=-1)]: Done 457 tasks      | elapsed:  1.8min\n",
      "[Parallel(n_jobs=-1)]: Done 488 tasks      | elapsed:  1.9min\n",
      "[Parallel(n_jobs=-1)]: Done 521 tasks      | elapsed:  2.1min\n",
      "[Parallel(n_jobs=-1)]: Done 554 tasks      | elapsed:  2.2min\n",
      "[Parallel(n_jobs=-1)]: Done 589 tasks      | elapsed:  2.4min\n",
      "[Parallel(n_jobs=-1)]: Done 624 tasks      | elapsed:  2.5min\n",
      "[Parallel(n_jobs=-1)]: Done 661 tasks      | elapsed:  2.7min\n",
      "[Parallel(n_jobs=-1)]: Done 698 tasks      | elapsed:  2.9min\n",
      "[Parallel(n_jobs=-1)]: Done 737 tasks      | elapsed:  3.1min\n",
      "[Parallel(n_jobs=-1)]: Done 776 tasks      | elapsed:  3.4min\n",
      "[Parallel(n_jobs=-1)]: Done 817 tasks      | elapsed:  3.6min\n",
      "[Parallel(n_jobs=-1)]: Done 858 tasks      | elapsed:  3.8min\n",
      "[Parallel(n_jobs=-1)]: Done 901 tasks      | elapsed:  4.1min\n",
      "[Parallel(n_jobs=-1)]: Done 960 out of 960 | elapsed:  4.4min finished\n"
     ]
    },
    {
     "data": {
      "text/plain": [
       "GridSearchCV(cv=3, error_score=nan,\n",
       "             estimator=LogisticRegression(C=1.0, class_weight=None, dual=False,\n",
       "                                          fit_intercept=True,\n",
       "                                          intercept_scaling=1, l1_ratio=None,\n",
       "                                          max_iter=100, multi_class='auto',\n",
       "                                          n_jobs=None, penalty='l2',\n",
       "                                          random_state=None, solver='lbfgs',\n",
       "                                          tol=0.0001, verbose=0,\n",
       "                                          warm_start=False),\n",
       "             iid='deprecated', n_jobs=-1,\n",
       "             param_grid={'C': [0.0001, 0.001, 0.01, 1, 0.1, 10, 100, 1000],\n",
       "                         'max_iter': [100, 300, 500, 700, 1000],\n",
       "                         'penalty': ['none', 'l2'],\n",
       "                         'solver': ['lbfgs', 'sag', 'saga', 'newton-cg']},\n",
       "             pre_dispatch='2*n_jobs', refit=True, return_train_score=False,\n",
       "             scoring='recall', verbose=10)"
      ]
     },
     "execution_count": 89,
     "metadata": {},
     "output_type": "execute_result"
    },
    {
     "data": {
      "text/plain": [
       "{'C': 0.0001, 'max_iter': 100, 'penalty': 'none', 'solver': 'lbfgs'}"
      ]
     },
     "execution_count": 89,
     "metadata": {},
     "output_type": "execute_result"
    }
   ],
   "source": [
    "from sklearn.model_selection import GridSearchCV\n",
    "from sklearn.metrics import fbeta_score, make_scorer\n",
    "f1_scorer = make_scorer(fbeta_score, beta=1)\n",
    "# Hyperparameters to be checked.\n",
    "parameters = {'C':[0.0001, 0.001, 0.01, 1, 0.1, 10, 100, 1000], 'penalty':['none','l2'] ,\n",
    "              'solver':['lbfgs','sag','saga','newton-cg'],'max_iter':[100,300,500,700,1000]}\n",
    "\n",
    "# Logistic Regression estimator.\n",
    "logreg_gs=LogisticRegression()\n",
    "\n",
    "# GridSearchCV estimator.\n",
    "logreg_gsmodel = GridSearchCV(logreg_gs, parameters, cv=3, n_jobs=-1,scoring='recall',verbose=10)\n",
    "\n",
    "# Train the GridSearchCV estimator and search for the best parameters.\n",
    "logreg_gsmodel.fit(X_train_sm,y_train_sm)\n",
    "best_param=logreg_gsmodel.best_params_\n",
    "\n",
    "best_param"
   ]
  },
  {
   "cell_type": "code",
   "execution_count": 140,
   "metadata": {},
   "outputs": [
    {
     "data": {
      "text/plain": [
       "LogisticRegression(C=0.0001, class_weight=None, dual=False, fit_intercept=True,\n",
       "                   intercept_scaling=1, l1_ratio=None, max_iter=100,\n",
       "                   multi_class='auto', n_jobs=None, penalty='none',\n",
       "                   random_state=None, solver='lbfgs', tol=0.0001, verbose=0,\n",
       "                   warm_start=False)"
      ]
     },
     "execution_count": 140,
     "metadata": {},
     "output_type": "execute_result"
    },
    {
     "name": "stdout",
     "output_type": "stream",
     "text": [
      "Confusion Matrix : \n",
      "\n"
     ]
    },
    {
     "data": {
      "image/png": "[encoded data removed]",
      "text/plain": [
       "<Figure size 432x288 with 2 Axes>"
      ]
     },
     "metadata": {
      "needs_background": "light"
     },
     "output_type": "display_data"
    },
    {
     "data": {
      "image/png": "[encoded data removed]",
      "text/plain": [
       "<Figure size 460.8x345.6 with 1 Axes>"
      ]
     },
     "metadata": {
      "needs_background": "light"
     },
     "output_type": "display_data"
    }
   ],
   "source": [
    "logreg_gridsearch=LogisticRegression(C = best_param['C'], penalty= best_param['penalty'], solver=best_param['solver'],max_iter=best_param['max_iter'])\n",
    "logreg_gridsearch.fit(X_train_sm, y_train_sm)\n",
    "\n",
    "# Predicting the Test set results\n",
    "y_pred_lrgs = logreg_gridsearch.predict(X_test)\n",
    "\n",
    "# Making the Confusion Matrix\n",
    "print('Confusion Matrix : ')\n",
    "#Confusion Matrix\n",
    "conf_matrix_plot(logreg_gridsearch)\n",
    "# Plotting ROC curve. \n",
    "print()\n",
    "auc_lrgs= plot_roc_auc(logreg_gridsearch)"
   ]
  },
  {
   "cell_type": "code",
   "execution_count": 141,
   "metadata": {},
   "outputs": [
    {
     "name": "stdout",
     "output_type": "stream",
     "text": [
      "Accuracy   : \t 0.8231\n",
      "Sensitivity: \t 0.8279\n",
      "Specificity: \t 0.8227\n",
      "AUC        : \t 0.8948\n"
     ]
    }
   ],
   "source": [
    "# check sensitivity and specificity\n",
    "from imblearn.metrics import sensitivity_specificity_support\n",
    "print('Accuracy   : \\t',round(logreg_gridsearch.score(X_test, y_test),4))\n",
    "sensitivity_lrgs, specificity_lrgs, _ = sensitivity_specificity_support(y_test, y_pred_lrgs, average='binary')\n",
    "print(\"Sensitivity: \\t\", round(sensitivity_lrgs, 4))\n",
    "print(\"Specificity: \\t\", round(specificity_lrgs, 4))\n",
    "print('AUC        : \\t',round(auc_lrgs,4))"
   ]
  },
  {
   "cell_type": "code",
   "execution_count": 142,
   "metadata": {},
   "outputs": [
    {
     "name": "stdout",
     "output_type": "stream",
     "text": [
      "Accuracy   : \t 0.839\n"
     ]
    }
   ],
   "source": [
    "y_pred_lrgstr = logreg_gridsearch.predict(X_train_sm)\n",
    "# check sensitivity and specificity\n",
    "print('Accuracy   : \\t',round(logreg_gridsearch.score(X_train_sm, y_train_sm),4))\n",
    "#sensitivity_rftr, specificity_rftr, _ = sensitivity_specificity_support(y_test, y_pred_rftr, average='binary')\n",
    "#print(\"Sensitivity: \\t\", round(sensitivity_rftr, 2))\n",
    "#print(\"Specificity: \\t\", round(specificity_rftr, 2))\n",
    "#print('AUC        : \\t',round(auc_rf,2))"
   ]
  },
  {
   "cell_type": "code",
   "execution_count": 144,
   "metadata": {},
   "outputs": [
    {
     "data": {
      "text/plain": [
       "SVC(C=10, break_ties=False, cache_size=200, class_weight=None, coef0=0.0,\n",
       "    decision_function_shape='ovr', degree=3, gamma=0.1, kernel='rbf',\n",
       "    max_iter=-1, probability=False, random_state=None, shrinking=True,\n",
       "    tol=0.001, verbose=False)"
      ]
     },
     "execution_count": 144,
     "metadata": {},
     "output_type": "execute_result"
    }
   ],
   "source": [
    "from sklearn.svm import SVC\n",
    "svm = SVC(kernel='rbf', C=10, gamma=0.1)\n",
    "svm.fit(X_train_sm, y_train_sm)"
   ]
  },
  {
   "cell_type": "code",
   "execution_count": 145,
   "metadata": {},
   "outputs": [
    {
     "name": "stdout",
     "output_type": "stream",
     "text": [
      "Confusion Matrix : \n",
      "\n"
     ]
    },
    {
     "ename": "AttributeError",
     "evalue": "predict_proba is not available when  probability=False",
     "output_type": "error",
     "traceback": [
      "\u001b[1;31m---------------------------------------------------------------------------\u001b[0m",
      "\u001b[1;31mAttributeError\u001b[0m                            Traceback (most recent call last)",
      "\u001b[1;32m<ipython-input-145-ade4249d3674>\u001b[0m in \u001b[0;36m<module>\u001b[1;34m\u001b[0m\n\u001b[0;32m      6\u001b[0m \u001b[1;31m# Plotting ROC curve.\u001b[0m\u001b[1;33m\u001b[0m\u001b[1;33m\u001b[0m\u001b[1;33m\u001b[0m\u001b[0m\n\u001b[0;32m      7\u001b[0m \u001b[0mprint\u001b[0m\u001b[1;33m(\u001b[0m\u001b[1;33m)\u001b[0m\u001b[1;33m\u001b[0m\u001b[1;33m\u001b[0m\u001b[0m\n\u001b[1;32m----> 8\u001b[1;33m \u001b[0mauc_lrgs\u001b[0m\u001b[1;33m=\u001b[0m \u001b[0mplot_roc_auc\u001b[0m\u001b[1;33m(\u001b[0m\u001b[0msvm\u001b[0m\u001b[1;33m)\u001b[0m\u001b[1;33m\u001b[0m\u001b[1;33m\u001b[0m\u001b[0m\n\u001b[0m",
      "\u001b[1;32m<ipython-input-12-75cb84484137>\u001b[0m in \u001b[0;36mplot_roc_auc\u001b[1;34m(model)\u001b[0m\n\u001b[0;32m      1\u001b[0m \u001b[1;31m# Creating a function to plot ROC curve and finding AUC.\u001b[0m\u001b[1;33m\u001b[0m\u001b[1;33m\u001b[0m\u001b[1;33m\u001b[0m\u001b[0m\n\u001b[0;32m      2\u001b[0m \u001b[1;32mdef\u001b[0m \u001b[0mplot_roc_auc\u001b[0m\u001b[1;33m(\u001b[0m\u001b[0mmodel\u001b[0m\u001b[1;33m)\u001b[0m\u001b[1;33m:\u001b[0m\u001b[1;33m\u001b[0m\u001b[1;33m\u001b[0m\u001b[0m\n\u001b[1;32m----> 3\u001b[1;33m     \u001b[0my_pred_proba\u001b[0m \u001b[1;33m=\u001b[0m \u001b[0mmodel\u001b[0m\u001b[1;33m.\u001b[0m\u001b[0mpredict_proba\u001b[0m\u001b[1;33m(\u001b[0m\u001b[0mX_test\u001b[0m\u001b[1;33m)\u001b[0m\u001b[1;33m[\u001b[0m\u001b[1;33m:\u001b[0m\u001b[1;33m,\u001b[0m\u001b[1;36m1\u001b[0m\u001b[1;33m]\u001b[0m\u001b[1;33m\u001b[0m\u001b[1;33m\u001b[0m\u001b[0m\n\u001b[0m\u001b[0;32m      4\u001b[0m     \u001b[0mfpr\u001b[0m\u001b[1;33m,\u001b[0m \u001b[0mtpr\u001b[0m\u001b[1;33m,\u001b[0m \u001b[0mthreshold\u001b[0m \u001b[1;33m=\u001b[0m \u001b[0mroc_curve\u001b[0m\u001b[1;33m(\u001b[0m\u001b[0my_test\u001b[0m\u001b[1;33m,\u001b[0m \u001b[0my_pred_proba\u001b[0m\u001b[1;33m)\u001b[0m\u001b[1;33m\u001b[0m\u001b[1;33m\u001b[0m\u001b[0m\n\u001b[0;32m      5\u001b[0m     \u001b[0mroc_auc\u001b[0m \u001b[1;33m=\u001b[0m \u001b[0mauc\u001b[0m\u001b[1;33m(\u001b[0m\u001b[0mfpr\u001b[0m\u001b[1;33m,\u001b[0m \u001b[0mtpr\u001b[0m\u001b[1;33m)\u001b[0m\u001b[1;33m\u001b[0m\u001b[1;33m\u001b[0m\u001b[0m\n",
      "\u001b[1;32m~\\Anaconda3\\lib\\site-packages\\sklearn\\svm\\_base.py\u001b[0m in \u001b[0;36mpredict_proba\u001b[1;34m(self)\u001b[0m\n\u001b[0;32m    634\u001b[0m         \u001b[0mdatasets\u001b[0m\u001b[1;33m.\u001b[0m\u001b[1;33m\u001b[0m\u001b[1;33m\u001b[0m\u001b[0m\n\u001b[0;32m    635\u001b[0m         \"\"\"\n\u001b[1;32m--> 636\u001b[1;33m         \u001b[0mself\u001b[0m\u001b[1;33m.\u001b[0m\u001b[0m_check_proba\u001b[0m\u001b[1;33m(\u001b[0m\u001b[1;33m)\u001b[0m\u001b[1;33m\u001b[0m\u001b[1;33m\u001b[0m\u001b[0m\n\u001b[0m\u001b[0;32m    637\u001b[0m         \u001b[1;32mreturn\u001b[0m \u001b[0mself\u001b[0m\u001b[1;33m.\u001b[0m\u001b[0m_predict_proba\u001b[0m\u001b[1;33m\u001b[0m\u001b[1;33m\u001b[0m\u001b[0m\n\u001b[0;32m    638\u001b[0m \u001b[1;33m\u001b[0m\u001b[0m\n",
      "\u001b[1;32m~\\Anaconda3\\lib\\site-packages\\sklearn\\svm\\_base.py\u001b[0m in \u001b[0;36m_check_proba\u001b[1;34m(self)\u001b[0m\n\u001b[0;32m    601\u001b[0m     \u001b[1;32mdef\u001b[0m \u001b[0m_check_proba\u001b[0m\u001b[1;33m(\u001b[0m\u001b[0mself\u001b[0m\u001b[1;33m)\u001b[0m\u001b[1;33m:\u001b[0m\u001b[1;33m\u001b[0m\u001b[1;33m\u001b[0m\u001b[0m\n\u001b[0;32m    602\u001b[0m         \u001b[1;32mif\u001b[0m \u001b[1;32mnot\u001b[0m \u001b[0mself\u001b[0m\u001b[1;33m.\u001b[0m\u001b[0mprobability\u001b[0m\u001b[1;33m:\u001b[0m\u001b[1;33m\u001b[0m\u001b[1;33m\u001b[0m\u001b[0m\n\u001b[1;32m--> 603\u001b[1;33m             raise AttributeError(\"predict_proba is not available when \"\n\u001b[0m\u001b[0;32m    604\u001b[0m                                  \" probability=False\")\n\u001b[0;32m    605\u001b[0m         \u001b[1;32mif\u001b[0m \u001b[0mself\u001b[0m\u001b[1;33m.\u001b[0m\u001b[0m_impl\u001b[0m \u001b[1;32mnot\u001b[0m \u001b[1;32min\u001b[0m \u001b[1;33m(\u001b[0m\u001b[1;34m'c_svc'\u001b[0m\u001b[1;33m,\u001b[0m \u001b[1;34m'nu_svc'\u001b[0m\u001b[1;33m)\u001b[0m\u001b[1;33m:\u001b[0m\u001b[1;33m\u001b[0m\u001b[1;33m\u001b[0m\u001b[0m\n",
      "\u001b[1;31mAttributeError\u001b[0m: predict_proba is not available when  probability=False"
     ]
    },
    {
     "data": {
      "image/png": "[encoded data removed]",
      "text/plain": [
       "<Figure size 432x288 with 2 Axes>"
      ]
     },
     "metadata": {
      "needs_background": "light"
     },
     "output_type": "display_data"
    }
   ],
   "source": [
    "y_test_predsvm = svm.predict(X_test)\n",
    "# Making the Confusion Matrix\n",
    "print('Confusion Matrix : ')\n",
    "#Confusion Matrix\n",
    "conf_matrix_plot(svm)\n",
    "# Plotting ROC curve. \n",
    "print()\n",
    "auc_lrgs= plot_roc_auc(svm)"
   ]
  },
  {
   "cell_type": "code",
   "execution_count": 146,
   "metadata": {},
   "outputs": [
    {
     "name": "stdout",
     "output_type": "stream",
     "text": [
      "Accuracy   : \t 0.854\n",
      "Sensitivity: \t 0.8103\n",
      "Specificity: \t 0.8576\n"
     ]
    }
   ],
   "source": [
    "# check sensitivity and specificity\n",
    "from imblearn.metrics import sensitivity_specificity_support\n",
    "print('Accuracy   : \\t',round(svm.score(X_test, y_test),4))\n",
    "sensitivity_svm, specificity_svm, _ = sensitivity_specificity_support(y_test, y_test_predsvm, average='binary')\n",
    "print(\"Sensitivity: \\t\", round(sensitivity_svm, 4))\n",
    "print(\"Specificity: \\t\", round(specificity_svm, 4))\n",
    "#print('AUC        : \\t',round(auc_lrgs,4))"
   ]
  },
  {
   "cell_type": "code",
   "execution_count": null,
   "metadata": {},
   "outputs": [
    {
     "name": "stdout",
     "output_type": "stream",
     "text": [
      "Fitting 3 folds for each of 60 candidates, totalling 180 fits\n"
     ]
    },
    {
     "name": "stderr",
     "output_type": "stream",
     "text": [
      "[Parallel(n_jobs=-1)]: Using backend LokyBackend with 12 concurrent workers.\n"
     ]
    }
   ],
   "source": [
    "from sklearn.model_selection import GridSearchCV\n",
    "from sklearn.svm import SVC\n",
    "parameters = {'C': [0.01,0.1,1, 10, 100, 1000], 'kernel': ['rbf'], 'gamma': [0.1,0.001,0.0001,1,'scale'],'probability':[True],'class_weight':['balanced',None],}\n",
    "svm_model_rs=SVC()\n",
    "\n",
    "grid_search_svm = GridSearchCV(estimator = svm_model_rs,param_grid=parameters,scoring = 'recall',cv = 3,n_jobs = -1, verbose=10)\n",
    "grid_search_svm.fit(X_train_sm, y_train_sm)"
   ]
  },
  {
   "cell_type": "code",
   "execution_count": null,
   "metadata": {},
   "outputs": [],
   "source": [
    "gs_accuracy = grid_search_svm.best_score_\n",
    "best_param=grid_search_svm.best_params_\n",
    "\n",
    "svm_gridsearch=SVC(C = best_param['C'], kernel= best_param['kernel'], gamma=best_param['gamma'], probability=best_param['probability'], class_weight=best_param['class_weight'])\n",
    "svm_gridsearch.fit(X_train, y_train)\n",
    "\n",
    "# Predicting the Test set results\n",
    "y_pred_svmgs = svm_gridsearch.predict(X_test)\n",
    "\n",
    "# Making the Confusion Matrix\n",
    "print('Confusion Matrix : ')\n",
    "#Confusion Matrix\n",
    "conf_matrix_plot(svm_gridsearch)"
   ]
  }
 ],
 "metadata": {
  "kernelspec": {
   "display_name": "Python 3",
   "language": "python",
   "name": "python3"
  },
  "language_info": {
   "codemirror_mode": {
    "name": "ipython",
    "version": 3
   },
   "file_extension": ".py",
   "mimetype": "text/x-python",
   "name": "python",
   "nbconvert_exporter": "python",
   "pygments_lexer": "ipython3",
   "version": "3.7.4"
  }
 },
 "nbformat": 4,
 "nbformat_minor": 2
}
